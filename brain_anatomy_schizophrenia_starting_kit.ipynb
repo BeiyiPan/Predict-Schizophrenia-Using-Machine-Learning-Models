{
 "cells": [
  {
   "cell_type": "markdown",
   "metadata": {},
   "source": [
    "<div style=\"text-align: left;\">\n",
    "<table style=\"width:100%; background-color:transparent;\">\n",
    "  <tr style=\"background-color:transparent;\">\n",
    "    <td align=\"center\"; style=\"background-color:transparent;\"><a href = \"https://joliot.cea.fr/drf/joliot/recherche/neurospin\"><img src=\"https://baobablab.github.io/bhb/images/collaborators/cea.jpg\" width=\"35%\"></td>\n",
    "    <td align=\"center\"; style=\"background-color:transparent; width: 50%;\"><a href = \"https://dataia.eu/\"><img src=\"https://github.com/ramp-kits/brain_anatomy_schizophrenia/raw/main/DATAIA-h.png\" width=\"80%\"></a></td>\n",
    "  </tr>\n",
    "</table> \n",
    "</div>\n",
    "\n",
    "<center><h1>Predict schizophrenia using brain anatomy</h1></center>\n",
    "\n",
    "\n",
    "<center><i>Edouard Duchesnay, Antoine Grigis, Benoît Dufumier (Université Paris-Saclay, CEA, NeuroSpin), François Caud, Alexandre Gramfort (Université Paris-Saclay, DATAIA) </i></center>"
   ]
  },
  {
   "cell_type": "markdown",
   "metadata": {},
   "source": [
    "Predict schizophrenia from brain grey matter (GM). schizophrenia is associated with diffuse and complex pattern of brain atrophy. We will try to learn a predictor of the clinical status (patient with schizophrenia vs. healthy control) using GM measurements on the brain participants.\n",
    "\n",
    "\n",
    "## Dataset\n",
    "\n",
    "There are 410 samples in the training set and 103 samples in the test set.\n",
    "\n",
    "\n",
    "### Input data\n",
    "\n",
    "Voxel-based_morphometry [VBM](https://en.wikipedia.org/wiki/Voxel-based_morphometry)\n",
    "using [cat12](http://www.neuro.uni-jena.de/cat/) software which provides:\n",
    "\n",
    "- Regions Of Interest (`rois`) of Grey Matter (GM) scaled for the Total\n",
    "  Intracranial Volume (TIV): `[train|test]_rois.csv` 284 features.\n",
    "\n",
    "- VBM GM 3D maps or images (`vbm3d`) of [voxels](https://en.wikipedia.org/wiki/Voxel) in the\n",
    "  [MNI](https://en.wikipedia.org/wiki/Talairach_coordinates) space:\n",
    "  `[train|test]_vbm.npz` contains 3D images of shapes (121, 145, 121).\n",
    "  This npz contains the 3D mask and the affine transformation to MNI\n",
    "  referential. Masking the brain provide *flat* 331 695 input features (voxels)\n",
    "  for each participant.\n",
    "\n",
    "By default `problem.get_[train|test]_data()` return the concatenation of 284 ROIs of\n",
    "Grey Matter (GM) features with 331 695 features (voxels) within a brain mask.\n",
    "Those two blocks are higly redundant.\n",
    "To select only on ROIs (`rois`) features do:\n",
    "\n",
    "```\n",
    "X[:, :284]\n",
    "```\n",
    "\n",
    "To select only on (`vbm`) (voxel with the brain) features do:\n",
    "\n",
    "```\n",
    "X[:, 284:]\n",
    "```\n",
    "\n",
    "### Target\n",
    "\n",
    "The target can be found in `[test|train]_participants.csv` files, selecting the\n",
    "`age` column for regression problem.\n",
    "\n",
    "## Evaluation metrics\n",
    "\n",
    "[sklearn metrics](https://scikit-learn.org/stable/modules/model_evaluation.html)\n",
    "\n",
    "The main Evaluation metrics is the Root-mean-square deviation\n",
    "[RMSE](https://en.wikipedia.org/wiki/Root-mean-square_deviation). We will also\n",
    "look at the R-squared\n",
    "[R2](https://en.wikipedia.org/wiki/Coefficient_of_determination).\n",
    "\n",
    "\n",
    "## Links\n",
    "\n",
    "\n",
    "- [RAMP-workflow’s documentation](https://paris-saclay-cds.github.io/ramp-workflow/)\n",
    "- [RAMP-workflow’s github](https://github.com/paris-saclay-cds/ramp-workflow)\n",
    "- [RAMP Kits](https://github.com/ramp-kits)\n",
    "\n",
    "## Installation\n",
    "\n",
    "This starting kit requires Python and the following dependencies:\n",
    "\n",
    "* `numpy`\n",
    "* `scipy`\n",
    "* `pandas`\n",
    "* `scikit-learn`\n",
    "* `matplolib`\n",
    "* `seaborn`\n",
    "* `jupyter`\n",
    "* `ramp-workflow`\n",
    "\n",
    "Therefore, we advise you to install [Anaconda\n",
    "distribution](https://www.anaconda.com/download/) which include almost all\n",
    "dependencies.\n",
    "\n",
    "Only `nilearn` and `ramp-workflow` are not included by default in the Anaconda\n",
    "distribution. They will be installed from the execution of the notebook.\n",
    "\n",
    "To run a submission and the notebook you will need the dependencies listed in requirements.txt.\n",
    "You can install the dependencies with the following command-line:\n",
    "\n",
    "```\n",
    "pip install -U -r requirements.txt\n",
    "```\n",
    "\n",
    "If you are using conda, we provide an environment.yml file for similar usage.\n",
    "\n",
    "```\n",
    "conda env create -f environment.yml\n",
    "```\n",
    "\n",
    "Then, you can activate the environment using:\n",
    "\n",
    "```\n",
    "conda activate brain-anatomy-schizophrenia\n",
    "```\n",
    "\n",
    "And desactivate using\n",
    "\n",
    "```\n",
    "conda deactivate\n",
    "```\n",
    "\n",
    "## Getting started\n",
    "\n",
    "1. Download the data locally:\n",
    "\n",
    "```\n",
    "python download_data.py\n",
    "```\n",
    "\n",
    "2. Execute the jupyter notebook, from the root directory using:\n",
    "\n",
    "```\n",
    "jupyter notebook brain_anatomy_schizophrenia_starting_kit.ipynb\n",
    "```\n",
    "\n",
    "Tune your model using the starting_kit\n",
    "\n",
    "3. Submission (Run locally)\n",
    "\n",
    "The submissions need to be located in the `submissions` folder.\n",
    "For instance for `starting_kit`, it should be located in\n",
    "`submissions/starting_kit`.\n",
    "\n",
    "Copy everything required to build your estimator in a submission file:\n",
    "`submissions/starting_kit/estimator.py`.\n",
    "This file must contain a function `get_estimator()`.\n",
    "\n",
    "Run locally:\n",
    "\n",
    "```\n",
    "ramp-test --submission starting_kit\n",
    "```\n",
    "\n",
    "4. Submission on RAMP:\n",
    "\n",
    "[Using RAMP starting-kits](https://paris-saclay-cds.github.io/ramp-docs/ramp-workflow/stable/using_kits.html)"
   ]
  },
  {
   "cell_type": "markdown",
   "metadata": {},
   "source": [
    "## Descriptive statistics"
   ]
  },
  {
   "cell_type": "code",
   "execution_count": 1,
   "metadata": {},
   "outputs": [
    {
     "name": "stderr",
     "output_type": "stream",
     "text": [
      "e:\\Anaconda\\envs\\comp0186\\Lib\\site-packages\\seaborn\\_oldcore.py:1498: FutureWarning: is_categorical_dtype is deprecated and will be removed in a future version. Use isinstance(dtype, CategoricalDtype) instead\n",
      "  if pd.api.types.is_categorical_dtype(vector):\n",
      "e:\\Anaconda\\envs\\comp0186\\Lib\\site-packages\\seaborn\\_oldcore.py:1498: FutureWarning: is_categorical_dtype is deprecated and will be removed in a future version. Use isinstance(dtype, CategoricalDtype) instead\n",
      "  if pd.api.types.is_categorical_dtype(vector):\n",
      "e:\\Anaconda\\envs\\comp0186\\Lib\\site-packages\\seaborn\\_oldcore.py:1498: FutureWarning: is_categorical_dtype is deprecated and will be removed in a future version. Use isinstance(dtype, CategoricalDtype) instead\n",
      "  if pd.api.types.is_categorical_dtype(vector):\n"
     ]
    },
    {
     "name": "stdout",
     "output_type": "stream",
     "text": [
      "         age                                                    \n",
      "       count       mean        std   min   25%   50%   75%   max\n",
      "set                                                             \n",
      "test   103.0  33.466019  12.809935  14.0  23.5  31.0  41.0  66.0\n",
      "train  410.0  33.068293  12.562225  15.0  22.0  29.0  43.0  65.0\n",
      "           age\n",
      "set   sex     \n",
      "test  0.0   65\n",
      "      1.0   38\n",
      "train 0.0  257\n",
      "      1.0  153\n"
     ]
    },
    {
     "data": {
      "image/png": "[encoded data removed]",
      "text/plain": [
       "<Figure size 640x480 with 1 Axes>"
      ]
     },
     "metadata": {},
     "output_type": "display_data"
    }
   ],
   "source": [
    "%matplotlib inline\n",
    "import os\n",
    "import numpy as np\n",
    "import matplotlib.pyplot as plt\n",
    "import pandas as pd\n",
    "import seaborn as sns\n",
    "\n",
    "participants_train = pd.read_csv(os.path.join(\"data\", \"train_participants.csv\" ))\n",
    "participants_train[\"set\"] = 'train'\n",
    "participants_test = pd.read_csv(os.path.join(\"data\", \"test_participants.csv\" ))\n",
    "participants_test[\"set\"] = 'test'\n",
    "participants = pd.concat([participants_train, participants_test])\n",
    "\n",
    "sns.violinplot(x=\"set\", y=\"age\", data=participants)\n",
    "print(participants[[\"age\", \"set\"]].groupby(\"set\").describe())\n",
    "print(participants[[\"set\", \"sex\", \"age\"]].groupby([\"set\", \"sex\"]).count())"
   ]
  },
  {
   "cell_type": "markdown",
   "metadata": {},
   "source": [
    "## Unsupervized analysis: Explore main sources of variabilities\n",
    "\n",
    "Load ROIs data, `train_rois.csv` provides:\n",
    "\n",
    "- Global volumes of \"tissues\": CerrebroSpinal Fluid (`CSF_Vol`), Grey (`GM_Vol`) and White Matter (`WM_Vol`) volume of participants.\n",
    "- ROIs are starting at column `l3thVen_GM_Vol`. Note that `rois_train.loc[:, 'l3thVen_GM_Vol':]` matches `problem.get_train_data()[:, :284]`."
   ]
  },
  {
   "cell_type": "code",
   "execution_count": 2,
   "metadata": {},
   "outputs": [],
   "source": [
    "rois_train = pd.read_csv(os.path.join(\"data\", \"train_rois.csv\" )).loc[:, 'l3thVen_GM_Vol':]\n",
    "rois_test = pd.read_csv(os.path.join(\"data\", \"test_rois.csv\" )).loc[:, 'l3thVen_GM_Vol':]\n",
    "rois = pd.concat([rois_train, rois_test])"
   ]
  },
  {
   "cell_type": "markdown",
   "metadata": {},
   "source": [
    "### PCA on ROIs: explore global effect of age"
   ]
  },
  {
   "cell_type": "code",
   "execution_count": 3,
   "metadata": {},
   "outputs": [
    {
     "name": "stderr",
     "output_type": "stream",
     "text": [
      "e:\\Anaconda\\envs\\comp0186\\Lib\\site-packages\\seaborn\\_oldcore.py:1498: FutureWarning: is_categorical_dtype is deprecated and will be removed in a future version. Use isinstance(dtype, CategoricalDtype) instead\n",
      "  if pd.api.types.is_categorical_dtype(vector):\n",
      "e:\\Anaconda\\envs\\comp0186\\Lib\\site-packages\\seaborn\\_oldcore.py:1498: FutureWarning: is_categorical_dtype is deprecated and will be removed in a future version. Use isinstance(dtype, CategoricalDtype) instead\n",
      "  if pd.api.types.is_categorical_dtype(vector):\n",
      "e:\\Anaconda\\envs\\comp0186\\Lib\\site-packages\\seaborn\\_oldcore.py:1498: FutureWarning: is_categorical_dtype is deprecated and will be removed in a future version. Use isinstance(dtype, CategoricalDtype) instead\n",
      "  if pd.api.types.is_categorical_dtype(vector):\n",
      "e:\\Anaconda\\envs\\comp0186\\Lib\\site-packages\\seaborn\\_oldcore.py:1498: FutureWarning: is_categorical_dtype is deprecated and will be removed in a future version. Use isinstance(dtype, CategoricalDtype) instead\n",
      "  if pd.api.types.is_categorical_dtype(vector):\n",
      "e:\\Anaconda\\envs\\comp0186\\Lib\\site-packages\\seaborn\\_oldcore.py:1498: FutureWarning: is_categorical_dtype is deprecated and will be removed in a future version. Use isinstance(dtype, CategoricalDtype) instead\n",
      "  if pd.api.types.is_categorical_dtype(vector):\n"
     ]
    },
    {
     "name": "stdout",
     "output_type": "stream",
     "text": [
      "                 sum_sq     df          F        PR(>F)\n",
      "diagnosis   2606.207928    1.0  29.245287  9.808873e-08\n",
      "Residual   45538.013350  511.0        NaN           NaN\n",
      "                 sum_sq     df          F    PR(>F)\n",
      "diagnosis    791.094363    1.0  10.876419  0.001042\n",
      "Residual   37167.493121  511.0        NaN       NaN\n"
     ]
    },
    {
     "data": {
      "image/png": "[encoded data removed]",
      "text/plain": [
       "<Figure size 640x480 with 1 Axes>"
      ]
     },
     "metadata": {},
     "output_type": "display_data"
    }
   ],
   "source": [
    "from sklearn.decomposition import PCA\n",
    "import statsmodels.api as sm\n",
    "import statsmodels.formula.api as smf\n",
    "import statsmodels.stats.api as sms\n",
    "\n",
    "PCs = PCA(n_components=2).fit_transform(rois)\n",
    "participants['PC1'], participants['PC2']  = PCs[:, 0], PCs[:, 1]\n",
    "\n",
    "sns.scatterplot (x=\"PC1\", y=\"PC2\", hue=\"diagnosis\",  data=participants)\n",
    "oneway = smf.ols('PC1 ~ diagnosis', participants).fit()\n",
    "print(sm.stats.anova_lm(oneway, typ=2))\n",
    "oneway = smf.ols('PC2 ~ diagnosis', participants).fit()\n",
    "print(sm.stats.anova_lm(oneway, typ=2))"
   ]
  },
  {
   "cell_type": "markdown",
   "metadata": {},
   "source": [
    "Diagnosis is associated with two first components, we expect to be abble to predict the diagnosis"
   ]
  },
  {
   "cell_type": "markdown",
   "metadata": {},
   "source": [
    "## Machine learning\n",
    "\n",
    "\n",
    "Import and read data"
   ]
  },
  {
   "cell_type": "code",
   "execution_count": 4,
   "metadata": {},
   "outputs": [],
   "source": [
    "from sklearn.neural_network import MLPClassifier\n",
    "from sklearn.ensemble import RandomForestClassifier\n",
    "\n",
    "from sklearn.base import BaseEstimator\n",
    "import sklearn.preprocessing as preprocessing\n",
    "from sklearn.pipeline import make_pipeline\n",
    "from sklearn.model_selection import cross_validate\n",
    "import sklearn.metrics as metrics\n",
    "import problem\n",
    "\n",
    "from sklearn.base import BaseEstimator\n",
    "from sklearn.base import TransformerMixin"
   ]
  },
  {
   "cell_type": "markdown",
   "metadata": {},
   "source": [
    "Load concatenated data: 284 features from ROIs and 331,695 features from VBM."
   ]
  },
  {
   "cell_type": "code",
   "execution_count": 5,
   "metadata": {},
   "outputs": [],
   "source": [
    "X_train, y_train = problem.get_train_data()\n",
    "X_test, y_test = problem.get_test_data()\n",
    "\n",
    "assert X_train.shape[1] == 284 + 331695"
   ]
  },
  {
   "cell_type": "markdown",
   "metadata": {},
   "source": [
    "## Feature extractor of ROIs or voxels within the brain (VBM)\n",
    "\n",
    "Selecting only rois or vbm images:\n",
    "\n",
    "This can be achieved by a `ROIsFeatureExtractor` or `VBMFeatureExtractor` "
   ]
  },
  {
   "cell_type": "code",
   "execution_count": 6,
   "metadata": {},
   "outputs": [
    {
     "name": "stdout",
     "output_type": "stream",
     "text": [
      "(410, 284)\n",
      "(410, 331695)\n"
     ]
    }
   ],
   "source": [
    "class ROIsFeatureExtractor(BaseEstimator, TransformerMixin):\n",
    "    \"\"\"Select only the 284 ROIs features:\"\"\"\n",
    "    def fit(self, X, y):\n",
    "        return self\n",
    "\n",
    "    def transform(self, X):\n",
    "        return X[:, :284]\n",
    "\n",
    "class VBMFeatureExtractor(BaseEstimator, TransformerMixin):\n",
    "    \"\"\"Select only the 284 ROIs features:\"\"\"\n",
    "    def fit(self, X, y):\n",
    "        return self\n",
    "\n",
    "    def transform(self, X):\n",
    "        return X[:, 284:]\n",
    "\n",
    "\n",
    "fe = ROIsFeatureExtractor()\n",
    "print(fe.transform(X_train).shape)\n",
    "\n",
    "fe = VBMFeatureExtractor()\n",
    "print(fe.transform(X_train).shape)"
   ]
  },
  {
   "cell_type": "code",
   "execution_count": 22,
   "metadata": {},
   "outputs": [
    {
     "data": {
      "image/png": "[encoded data removed]",
      "text/plain": [
       "<Figure size 800x600 with 1 Axes>"
      ]
     },
     "metadata": {},
     "output_type": "display_data"
    },
    {
     "data": {
      "image/png": "[encoded data removed]",
      "text/plain": [
       "<Figure size 800x600 with 1 Axes>"
      ]
     },
     "metadata": {},
     "output_type": "display_data"
    }
   ],
   "source": [
    "import matplotlib.pyplot as plt\n",
    "\n",
    "sex_distribution = participants_train['sex'].value_counts()\n",
    "\n",
    "# Pie chart\n",
    "plt.figure(figsize=(8, 6))\n",
    "plt.pie(sex_distribution, labels=sex_distribution.index, autopct='%1.1f%%', startangle=140)\n",
    "plt.title('Sex Distribution of Participants')\n",
    "plt.axis('equal')  # Equal aspect ratio ensures that pie is drawn as a circle.\n",
    "plt.show()\n",
    "\n",
    "sex_distribution = participants_test['sex'].value_counts()\n",
    "\n",
    "# Pie chart\n",
    "plt.figure(figsize=(8, 6))\n",
    "plt.pie(sex_distribution, labels=sex_distribution.index, autopct='%1.1f%%', startangle=140)\n",
    "plt.title('Sex Distribution of Participants')\n",
    "plt.axis('equal')  # Equal aspect ratio ensures that pie is drawn as a circle.\n",
    "plt.show()\n"
   ]
  },
  {
   "cell_type": "code",
   "execution_count": 23,
   "metadata": {},
   "outputs": [
    {
     "data": {
      "image/png": "[encoded data removed]",
      "text/plain": [
       "<Figure size 800x600 with 1 Axes>"
      ]
     },
     "metadata": {},
     "output_type": "display_data"
    },
    {
     "data": {
      "image/png": "[encoded data removed]",
      "text/plain": [
       "<Figure size 800x600 with 1 Axes>"
      ]
     },
     "metadata": {},
     "output_type": "display_data"
    }
   ],
   "source": [
    "\n",
    "sex_distribution = participants_train['diagnosis'].value_counts()\n",
    "\n",
    "# Pie chart\n",
    "plt.figure(figsize=(8, 6))\n",
    "plt.pie(sex_distribution, labels=sex_distribution.index, autopct='%1.1f%%', startangle=140)\n",
    "plt.title('Sex Distribution of Participants')\n",
    "plt.axis('equal')  # Equal aspect ratio ensures that pie is drawn as a circle.\n",
    "plt.show()\n",
    "\n",
    "\n",
    "sex_distribution = participants_test['diagnosis'].value_counts()\n",
    "\n",
    "# Pie chart\n",
    "plt.figure(figsize=(8, 6))\n",
    "plt.pie(sex_distribution, labels=sex_distribution.index, autopct='%1.1f%%', startangle=140)\n",
    "plt.title('Sex Distribution of Participants')\n",
    "plt.axis('equal')  # Equal aspect ratio ensures that pie is drawn as a circle.\n",
    "plt.show()"
   ]
  },
  {
   "cell_type": "markdown",
   "metadata": {},
   "source": [
    "## Design of predictors and their evaluation using CV and test set"
   ]
  },
  {
   "cell_type": "markdown",
   "metadata": {},
   "source": [
    "L1 Logistic Regression"
   ]
  },
  {
   "cell_type": "code",
   "execution_count": 7,
   "metadata": {},
   "outputs": [
    {
     "name": "stderr",
     "output_type": "stream",
     "text": [
      "[Parallel(n_jobs=5)]: Using backend LokyBackend with 5 concurrent workers.\n",
      "[Parallel(n_jobs=5)]: Done   2 out of   2 | elapsed:   14.2s finished\n",
      "[Parallel(n_jobs=5)]: Done   2 out of   2 | elapsed:   14.2s remaining:    0.0s\n"
     ]
    },
    {
     "name": "stdout",
     "output_type": "stream",
     "text": [
      "# 5CV\n",
      "bACC=0.71 ROC-AUC=0.79\n",
      "# Test\n",
      "bACC=0.77 ROC-AUC=0.85\n"
     ]
    }
   ],
   "source": [
    "# LogisticRegression | common cross validation | RIO features only\n",
    "\n",
    "from sklearn.linear_model import LogisticRegression\n",
    "from sklearn.model_selection import cross_validate, KFold\n",
    "from sklearn.pipeline import make_pipeline\n",
    "from sklearn import metrics\n",
    "from sklearn.preprocessing import StandardScaler\n",
    "\n",
    "cv = KFold(n_splits=2, shuffle=True, random_state=1)\n",
    "\n",
    "estimator = make_pipeline(\n",
    "    ROIsFeatureExtractor(),\n",
    "    StandardScaler(),\n",
    "    LogisticRegression(penalty = 'l1', solver='liblinear', random_state=1))\n",
    "\n",
    "    \n",
    "cv_results = cross_validate(estimator, X_train, y_train, scoring=['balanced_accuracy', 'roc_auc'], cv=cv,\n",
    "                         verbose=1, return_train_score=True, n_jobs=5)\n",
    "\n",
    "print(\"# 5CV\")\n",
    "print('bACC=%.2f' % cv_results['test_balanced_accuracy'].mean(),\n",
    "      'ROC-AUC=%.2f' % cv_results['test_roc_auc'].mean())\n",
    "\n",
    "# Refit on all train\n",
    "estimator.fit(X_train, y_train)\n",
    "# Apply on test\n",
    "y_pred_train = estimator.predict(X_train)\n",
    "y_pred_test = estimator.predict(X_test)\n",
    "score_pred_test = estimator.predict_proba(X_test)[:, 1]\n",
    "\n",
    "bacc_test = metrics.balanced_accuracy_score(y_test, y_pred_test)\n",
    "auc_test = metrics.roc_auc_score(y_test, score_pred_test)\n",
    "print(\"# Test\")\n",
    "print('bACC=%.2f' % bacc_test,\n",
    "      'ROC-AUC=%.2f' % auc_test)\n"
   ]
  },
  {
   "cell_type": "code",
   "execution_count": 8,
   "metadata": {},
   "outputs": [
    {
     "name": "stdout",
     "output_type": "stream",
     "text": [
      "Fitting 2 folds for each of 100 candidates, totalling 200 fits\n",
      "Best parameters: {'logisticregression__C': 0.12785717080546086}\n",
      "# 5CV\n",
      "bACC=0.71 ROC-AUC=0.79\n",
      "# Test\n",
      "bACC=0.74 ROC-AUC=0.84\n"
     ]
    }
   ],
   "source": [
    "from sklearn.model_selection import RandomizedSearchCV, KFold\n",
    "from scipy.stats import loguniform\n",
    "from sklearn.linear_model import LogisticRegression\n",
    "from sklearn.pipeline import make_pipeline\n",
    "from sklearn import metrics\n",
    "import numpy as np\n",
    "from sklearn.preprocessing import StandardScaler\n",
    "\n",
    "cv = KFold(n_splits=2, shuffle=True, random_state=1)\n",
    "\n",
    "\n",
    "estimator = make_pipeline(\n",
    "    ROIsFeatureExtractor(),\n",
    "    StandardScaler(),\n",
    "    LogisticRegression(penalty = 'l1', random_state=1, solver='liblinear'))\n",
    "\n",
    "# Setup the hyperparameter distributions to sample from\n",
    "param_distributions = {\n",
    "    'logisticregression__C': loguniform(1e-3, 10)\n",
    "}\n",
    "\n",
    "# Setup RandomizedSearchCV\n",
    "random_search = RandomizedSearchCV(estimator,\n",
    "                                   param_distributions=param_distributions,\n",
    "                                   n_iter=100,\n",
    "                                   scoring=['roc_auc', 'balanced_accuracy'],\n",
    "                                   refit='balanced_accuracy',\n",
    "                                   cv=cv,\n",
    "                                   verbose=1,\n",
    "                                   n_jobs=5,\n",
    "                                   random_state=1,\n",
    "                                   return_train_score=True)\n",
    "\n",
    "# Fit RandomizedSearchCV\n",
    "random_search.fit(X_train, y_train)\n",
    "\n",
    "print(\"Best parameters:\", random_search.best_params_)\n",
    "\n",
    "# Reporting cross-validation results\n",
    "print(\"# 5CV\")\n",
    "print('bACC=%.2f' % np.mean(random_search.cv_results_['mean_test_balanced_accuracy']),\n",
    "      'ROC-AUC=%.2f' % np.mean(random_search.cv_results_['mean_test_roc_auc']))\n",
    "\n",
    "# Using the best estimator found to predict on test data\n",
    "y_pred_test = random_search.predict(X_test)\n",
    "score_pred_test = random_search.predict_proba(X_test)[:, 1]\n",
    "\n",
    "# Calculate test scores\n",
    "bacc_test = metrics.balanced_accuracy_score(y_test, y_pred_test)\n",
    "auc_test = metrics.roc_auc_score(y_test, score_pred_test)\n",
    "\n",
    "# Print test results\n",
    "print(\"# Test\")\n",
    "print('bACC=%.2f' % bacc_test, 'ROC-AUC=%.2f' % auc_test)\n"
   ]
  },
  {
   "cell_type": "code",
   "execution_count": 27,
   "metadata": {},
   "outputs": [
    {
     "name": "stdout",
     "output_type": "stream",
     "text": [
      "Training and testing time: 0.0985 seconds\n"
     ]
    }
   ],
   "source": [
    "import time\n",
    "start_train_test = time.time()\n",
    "\n",
    "estimator = make_pipeline(\n",
    "    ROIsFeatureExtractor(),\n",
    "    StandardScaler(),\n",
    "    LogisticRegression(penalty = 'l1', solver='liblinear', random_state=1, C = 0.12785717080546086))\n",
    "\n",
    "    \n",
    "\n",
    "# Refit on all train\n",
    "estimator.fit(X_train, y_train)\n",
    "# Apply on test\n",
    "y_pred_train = estimator.predict(X_train)\n",
    "y_pred_test = estimator.predict(X_test)\n",
    "score_pred_test = estimator.predict_proba(X_test)[:, 1]\n",
    "\n",
    "bacc_test = metrics.balanced_accuracy_score(y_test, y_pred_test)\n",
    "auc_test = metrics.roc_auc_score(y_test, score_pred_test)\n",
    "\n",
    "end_train_test = time.time()\n",
    "\n",
    "# Calculate and print training and testing time rounded to 4 digits\n",
    "train_test_time = end_train_test - start_train_test\n",
    "print(\"Training and testing time:\", \"{:.4f} seconds\".format(train_test_time))\n"
   ]
  },
  {
   "cell_type": "code",
   "execution_count": 9,
   "metadata": {},
   "outputs": [
    {
     "name": "stderr",
     "output_type": "stream",
     "text": [
      "[Parallel(n_jobs=5)]: Using backend LokyBackend with 5 concurrent workers.\n",
      "[Parallel(n_jobs=5)]: Done   2 out of   2 | elapsed:   10.7s remaining:    0.0s\n",
      "[Parallel(n_jobs=5)]: Done   2 out of   2 | elapsed:   10.7s finished\n"
     ]
    },
    {
     "name": "stdout",
     "output_type": "stream",
     "text": [
      "# 5CV\n",
      "bACC=0.71 ROC-AUC=0.78\n",
      "# Test\n",
      "bACC=0.77 ROC-AUC=0.85\n"
     ]
    }
   ],
   "source": [
    "# LogisticRegression | StratifiedGroupKFold cross validation | RIO features only\n",
    "\n",
    "from sklearn.model_selection import StratifiedGroupKFold\n",
    "from sklearn.pipeline import make_pipeline\n",
    "from sklearn.ensemble import RandomForestClassifier\n",
    "from sklearn.model_selection import cross_validate\n",
    "from sklearn import metrics\n",
    "from sklearn.linear_model import LogisticRegression\n",
    "\n",
    "groups = participants_train['sex']\n",
    "\n",
    "\n",
    "estimator = make_pipeline(\n",
    "    ROIsFeatureExtractor(),\n",
    "    StandardScaler(),\n",
    "    LogisticRegression(penalty = 'l1', solver='liblinear', random_state=1))\n",
    "\n",
    "\n",
    "cv = StratifiedGroupKFold(n_splits=2, shuffle=True, random_state=1)\n",
    "\n",
    "cv_results = cross_validate(estimator, X_train, y_train, groups=groups,\n",
    "                            scoring=['balanced_accuracy', 'roc_auc'], cv=cv,\n",
    "                            verbose=1, return_train_score=True, n_jobs=5)\n",
    "\n",
    "print(\"# 5CV\")\n",
    "print('bACC=%.2f' % cv_results['test_balanced_accuracy'].mean(),\n",
    "      'ROC-AUC=%.2f' % cv_results['test_roc_auc'].mean())\n",
    "\n",
    "# Refit on all train\n",
    "estimator.fit(X_train, y_train)\n",
    "# Apply on test\n",
    "y_pred_train = estimator.predict(X_train)\n",
    "y_pred_test = estimator.predict(X_test)\n",
    "score_pred_test = estimator.predict_proba(X_test)[:, 1]\n",
    "\n",
    "bacc_test = metrics.balanced_accuracy_score(y_test, y_pred_test)\n",
    "auc_test = metrics.roc_auc_score(y_test, score_pred_test)\n",
    "print(\"# Test\")\n",
    "print('bACC=%.2f' % bacc_test,\n",
    "      'ROC-AUC=%.2f' % auc_test)\n"
   ]
  },
  {
   "cell_type": "code",
   "execution_count": 10,
   "metadata": {},
   "outputs": [
    {
     "name": "stdout",
     "output_type": "stream",
     "text": [
      "Fitting 2 folds for each of 100 candidates, totalling 200 fits\n",
      "Best parameters: {'logisticregression__C': 0.5992397731141761}\n",
      "# CV Results\n",
      "bACC=0.63 ROC-AUC=0.67\n",
      "# Test\n",
      "bACC=0.79 ROC-AUC=0.86\n"
     ]
    }
   ],
   "source": [
    "from sklearn.model_selection import RandomizedSearchCV, StratifiedGroupKFold\n",
    "from sklearn.preprocessing import StandardScaler  # Ensure this is imported if not already\n",
    "from scipy.stats import loguniform\n",
    "from sklearn.linear_model import LogisticRegression\n",
    "from sklearn.pipeline import make_pipeline\n",
    "import numpy as np\n",
    "\n",
    "\n",
    "groups = participants_train['sex']\n",
    "\n",
    "# Setup the group stratified cross-validation\n",
    "cv = StratifiedGroupKFold(n_splits=2, shuffle=True, random_state=1)\n",
    "\n",
    "estimator = make_pipeline(\n",
    "    ROIsFeatureExtractor(),\n",
    "    StandardScaler(),\n",
    "    LogisticRegression(penalty='l1', random_state=1, solver='liblinear'))\n",
    "\n",
    "param_distributions = {\n",
    "    'logisticregression__C': loguniform(1e-3, 10)\n",
    "}\n",
    "\n",
    "random_search = RandomizedSearchCV(estimator,\n",
    "                                   param_distributions=param_distributions,\n",
    "                                   n_iter=100,\n",
    "                                   scoring=['roc_auc', 'balanced_accuracy'],\n",
    "                                   refit='balanced_accuracy',\n",
    "                                   cv=cv,\n",
    "                                   verbose=1,\n",
    "                                   n_jobs=5,\n",
    "                                   random_state=1,\n",
    "                                   return_train_score=True)\n",
    "\n",
    "# Pass the groups to the fit method\n",
    "random_search.fit(X_train, y_train, groups=groups)\n",
    "\n",
    "print(\"Best parameters:\", random_search.best_params_)\n",
    "\n",
    "print(\"# CV Results\")\n",
    "print('bACC=%.2f' % np.mean(random_search.cv_results_['mean_test_balanced_accuracy']),\n",
    "      'ROC-AUC=%.2f' % np.mean(random_search.cv_results_['mean_test_roc_auc']))\n",
    "\n",
    "y_pred_test = random_search.predict(X_test)\n",
    "score_pred_test = random_search.predict_proba(X_test)[:, 1]\n",
    "\n",
    "bacc_test = metrics.balanced_accuracy_score(y_test, y_pred_test)\n",
    "auc_test = metrics.roc_auc_score(y_test, score_pred_test)\n",
    "\n",
    "print(\"# Test\")\n",
    "print('bACC=%.2f' % bacc_test, 'ROC-AUC=%.2f' % auc_test)\n"
   ]
  },
  {
   "cell_type": "code",
   "execution_count": 28,
   "metadata": {},
   "outputs": [
    {
     "name": "stdout",
     "output_type": "stream",
     "text": [
      "Training and testing time: 0.0470 seconds\n"
     ]
    }
   ],
   "source": [
    "import time\n",
    "start_train_test = time.time()\n",
    "\n",
    "estimator = make_pipeline(\n",
    "    ROIsFeatureExtractor(),\n",
    "    StandardScaler(),\n",
    "    LogisticRegression(penalty = 'l1', solver='liblinear', random_state=1, C = 0.5992397731141761))\n",
    "\n",
    "    \n",
    "\n",
    "# Refit on all train\n",
    "estimator.fit(X_train, y_train)\n",
    "# Apply on test\n",
    "y_pred_train = estimator.predict(X_train)\n",
    "y_pred_test = estimator.predict(X_test)\n",
    "score_pred_test = estimator.predict_proba(X_test)[:, 1]\n",
    "\n",
    "bacc_test = metrics.balanced_accuracy_score(y_test, y_pred_test)\n",
    "auc_test = metrics.roc_auc_score(y_test, score_pred_test)\n",
    "\n",
    "end_train_test = time.time()\n",
    "\n",
    "# Calculate and print training and testing time rounded to 4 digits\n",
    "train_test_time = end_train_test - start_train_test\n",
    "print(\"Training and testing time:\", \"{:.4f} seconds\".format(train_test_time))"
   ]
  },
  {
   "cell_type": "code",
   "execution_count": 36,
   "metadata": {},
   "outputs": [
    {
     "name": "stderr",
     "output_type": "stream",
     "text": [
      "[Parallel(n_jobs=5)]: Using backend LokyBackend with 5 concurrent workers.\n",
      "[Parallel(n_jobs=5)]: Done   2 out of   2 | elapsed:   54.2s remaining:    0.0s\n",
      "[Parallel(n_jobs=5)]: Done   2 out of   2 | elapsed:   54.2s finished\n"
     ]
    },
    {
     "name": "stdout",
     "output_type": "stream",
     "text": [
      "# 5CV\n",
      "bACC=0.69 ROC-AUC=0.79\n",
      "# Test\n",
      "bACC=0.70 ROC-AUC=0.82\n"
     ]
    }
   ],
   "source": [
    "# LogisticRegression | common cross validation | VBM features only\n",
    "\n",
    "from sklearn.linear_model import LogisticRegression\n",
    "from sklearn.model_selection import cross_validate, KFold\n",
    "from sklearn.pipeline import make_pipeline\n",
    "from sklearn import metrics\n",
    "from sklearn.preprocessing import StandardScaler\n",
    "\n",
    "cv = KFold(n_splits=2, shuffle=True, random_state=1)\n",
    "\n",
    "estimator = make_pipeline(\n",
    "    VBMFeatureExtractor(),\n",
    "    StandardScaler(),\n",
    "    LogisticRegression(penalty = 'l1', solver='liblinear', random_state=1))\n",
    "\n",
    "    \n",
    "cv_results = cross_validate(estimator, X_train, y_train, scoring=['balanced_accuracy', 'roc_auc'], cv=cv,\n",
    "                         verbose=1, return_train_score=True, n_jobs=5)\n",
    "\n",
    "print(\"# 5CV\")\n",
    "print('bACC=%.2f' % cv_results['test_balanced_accuracy'].mean(),\n",
    "      'ROC-AUC=%.2f' % cv_results['test_roc_auc'].mean())\n",
    "\n",
    "# Refit on all train\n",
    "estimator.fit(X_train, y_train)\n",
    "# Apply on test\n",
    "y_pred_train = estimator.predict(X_train)\n",
    "y_pred_test = estimator.predict(X_test)\n",
    "score_pred_test = estimator.predict_proba(X_test)[:, 1]\n",
    "\n",
    "bacc_test = metrics.balanced_accuracy_score(y_test, y_pred_test)\n",
    "auc_test = metrics.roc_auc_score(y_test, score_pred_test)\n",
    "print(\"# Test\")\n",
    "print('bACC=%.2f' % bacc_test,\n",
    "      'ROC-AUC=%.2f' % auc_test)\n"
   ]
  },
  {
   "cell_type": "code",
   "execution_count": 37,
   "metadata": {},
   "outputs": [
    {
     "name": "stdout",
     "output_type": "stream",
     "text": [
      "Fitting 2 folds for each of 100 candidates, totalling 200 fits\n"
     ]
    },
    {
     "ename": "TerminatedWorkerError",
     "evalue": "A worker process managed by the executor was unexpectedly terminated. This could be caused by a segmentation fault while calling the function or by an excessive memory usage causing the Operating System to kill the worker.\n",
     "output_type": "error",
     "traceback": [
      "\u001b[1;31m---------------------------------------------------------------------------\u001b[0m",
      "\u001b[1;31mTerminatedWorkerError\u001b[0m                     Traceback (most recent call last)",
      "Cell \u001b[1;32mIn[37], line 35\u001b[0m\n\u001b[0;32m     23\u001b[0m random_search \u001b[38;5;241m=\u001b[39m RandomizedSearchCV(estimator,\n\u001b[0;32m     24\u001b[0m                                    param_distributions\u001b[38;5;241m=\u001b[39mparam_distributions,\n\u001b[0;32m     25\u001b[0m                                    n_iter\u001b[38;5;241m=\u001b[39m\u001b[38;5;241m100\u001b[39m,  \u001b[38;5;66;03m# Number of parameter settings that are sampled\u001b[39;00m\n\u001b[1;32m   (...)\u001b[0m\n\u001b[0;32m     31\u001b[0m                                    random_state\u001b[38;5;241m=\u001b[39m\u001b[38;5;241m1\u001b[39m,\n\u001b[0;32m     32\u001b[0m                                    return_train_score\u001b[38;5;241m=\u001b[39m\u001b[38;5;28;01mTrue\u001b[39;00m)\n\u001b[0;32m     34\u001b[0m \u001b[38;5;66;03m# Fit RandomizedSearchCV\u001b[39;00m\n\u001b[1;32m---> 35\u001b[0m \u001b[43mrandom_search\u001b[49m\u001b[38;5;241;43m.\u001b[39;49m\u001b[43mfit\u001b[49m\u001b[43m(\u001b[49m\u001b[43mX_train\u001b[49m\u001b[43m,\u001b[49m\u001b[43m \u001b[49m\u001b[43my_train\u001b[49m\u001b[43m)\u001b[49m\n\u001b[0;32m     37\u001b[0m \u001b[38;5;28mprint\u001b[39m(\u001b[38;5;124m\"\u001b[39m\u001b[38;5;124mBest parameters:\u001b[39m\u001b[38;5;124m\"\u001b[39m, random_search\u001b[38;5;241m.\u001b[39mbest_params_)\n\u001b[0;32m     39\u001b[0m \u001b[38;5;66;03m# Reporting cross-validation results\u001b[39;00m\n",
      "File \u001b[1;32me:\\Anaconda\\envs\\comp0186\\Lib\\site-packages\\sklearn\\base.py:1152\u001b[0m, in \u001b[0;36m_fit_context.<locals>.decorator.<locals>.wrapper\u001b[1;34m(estimator, *args, **kwargs)\u001b[0m\n\u001b[0;32m   1145\u001b[0m     estimator\u001b[38;5;241m.\u001b[39m_validate_params()\n\u001b[0;32m   1147\u001b[0m \u001b[38;5;28;01mwith\u001b[39;00m config_context(\n\u001b[0;32m   1148\u001b[0m     skip_parameter_validation\u001b[38;5;241m=\u001b[39m(\n\u001b[0;32m   1149\u001b[0m         prefer_skip_nested_validation \u001b[38;5;129;01mor\u001b[39;00m global_skip_validation\n\u001b[0;32m   1150\u001b[0m     )\n\u001b[0;32m   1151\u001b[0m ):\n\u001b[1;32m-> 1152\u001b[0m     \u001b[38;5;28;01mreturn\u001b[39;00m \u001b[43mfit_method\u001b[49m\u001b[43m(\u001b[49m\u001b[43mestimator\u001b[49m\u001b[43m,\u001b[49m\u001b[43m \u001b[49m\u001b[38;5;241;43m*\u001b[39;49m\u001b[43margs\u001b[49m\u001b[43m,\u001b[49m\u001b[43m \u001b[49m\u001b[38;5;241;43m*\u001b[39;49m\u001b[38;5;241;43m*\u001b[39;49m\u001b[43mkwargs\u001b[49m\u001b[43m)\u001b[49m\n",
      "File \u001b[1;32me:\\Anaconda\\envs\\comp0186\\Lib\\site-packages\\sklearn\\model_selection\\_search.py:898\u001b[0m, in \u001b[0;36mBaseSearchCV.fit\u001b[1;34m(self, X, y, groups, **fit_params)\u001b[0m\n\u001b[0;32m    892\u001b[0m     results \u001b[38;5;241m=\u001b[39m \u001b[38;5;28mself\u001b[39m\u001b[38;5;241m.\u001b[39m_format_results(\n\u001b[0;32m    893\u001b[0m         all_candidate_params, n_splits, all_out, all_more_results\n\u001b[0;32m    894\u001b[0m     )\n\u001b[0;32m    896\u001b[0m     \u001b[38;5;28;01mreturn\u001b[39;00m results\n\u001b[1;32m--> 898\u001b[0m \u001b[38;5;28;43mself\u001b[39;49m\u001b[38;5;241;43m.\u001b[39;49m\u001b[43m_run_search\u001b[49m\u001b[43m(\u001b[49m\u001b[43mevaluate_candidates\u001b[49m\u001b[43m)\u001b[49m\n\u001b[0;32m    900\u001b[0m \u001b[38;5;66;03m# multimetric is determined here because in the case of a callable\u001b[39;00m\n\u001b[0;32m    901\u001b[0m \u001b[38;5;66;03m# self.scoring the return type is only known after calling\u001b[39;00m\n\u001b[0;32m    902\u001b[0m first_test_score \u001b[38;5;241m=\u001b[39m all_out[\u001b[38;5;241m0\u001b[39m][\u001b[38;5;124m\"\u001b[39m\u001b[38;5;124mtest_scores\u001b[39m\u001b[38;5;124m\"\u001b[39m]\n",
      "File \u001b[1;32me:\\Anaconda\\envs\\comp0186\\Lib\\site-packages\\sklearn\\model_selection\\_search.py:1809\u001b[0m, in \u001b[0;36mRandomizedSearchCV._run_search\u001b[1;34m(self, evaluate_candidates)\u001b[0m\n\u001b[0;32m   1807\u001b[0m \u001b[38;5;28;01mdef\u001b[39;00m \u001b[38;5;21m_run_search\u001b[39m(\u001b[38;5;28mself\u001b[39m, evaluate_candidates):\n\u001b[0;32m   1808\u001b[0m \u001b[38;5;250m    \u001b[39m\u001b[38;5;124;03m\"\"\"Search n_iter candidates from param_distributions\"\"\"\u001b[39;00m\n\u001b[1;32m-> 1809\u001b[0m     \u001b[43mevaluate_candidates\u001b[49m\u001b[43m(\u001b[49m\n\u001b[0;32m   1810\u001b[0m \u001b[43m        \u001b[49m\u001b[43mParameterSampler\u001b[49m\u001b[43m(\u001b[49m\n\u001b[0;32m   1811\u001b[0m \u001b[43m            \u001b[49m\u001b[38;5;28;43mself\u001b[39;49m\u001b[38;5;241;43m.\u001b[39;49m\u001b[43mparam_distributions\u001b[49m\u001b[43m,\u001b[49m\u001b[43m \u001b[49m\u001b[38;5;28;43mself\u001b[39;49m\u001b[38;5;241;43m.\u001b[39;49m\u001b[43mn_iter\u001b[49m\u001b[43m,\u001b[49m\u001b[43m \u001b[49m\u001b[43mrandom_state\u001b[49m\u001b[38;5;241;43m=\u001b[39;49m\u001b[38;5;28;43mself\u001b[39;49m\u001b[38;5;241;43m.\u001b[39;49m\u001b[43mrandom_state\u001b[49m\n\u001b[0;32m   1812\u001b[0m \u001b[43m        \u001b[49m\u001b[43m)\u001b[49m\n\u001b[0;32m   1813\u001b[0m \u001b[43m    \u001b[49m\u001b[43m)\u001b[49m\n",
      "File \u001b[1;32me:\\Anaconda\\envs\\comp0186\\Lib\\site-packages\\sklearn\\model_selection\\_search.py:845\u001b[0m, in \u001b[0;36mBaseSearchCV.fit.<locals>.evaluate_candidates\u001b[1;34m(candidate_params, cv, more_results)\u001b[0m\n\u001b[0;32m    837\u001b[0m \u001b[38;5;28;01mif\u001b[39;00m \u001b[38;5;28mself\u001b[39m\u001b[38;5;241m.\u001b[39mverbose \u001b[38;5;241m>\u001b[39m \u001b[38;5;241m0\u001b[39m:\n\u001b[0;32m    838\u001b[0m     \u001b[38;5;28mprint\u001b[39m(\n\u001b[0;32m    839\u001b[0m         \u001b[38;5;124m\"\u001b[39m\u001b[38;5;124mFitting \u001b[39m\u001b[38;5;132;01m{0}\u001b[39;00m\u001b[38;5;124m folds for each of \u001b[39m\u001b[38;5;132;01m{1}\u001b[39;00m\u001b[38;5;124m candidates,\u001b[39m\u001b[38;5;124m\"\u001b[39m\n\u001b[0;32m    840\u001b[0m         \u001b[38;5;124m\"\u001b[39m\u001b[38;5;124m totalling \u001b[39m\u001b[38;5;132;01m{2}\u001b[39;00m\u001b[38;5;124m fits\u001b[39m\u001b[38;5;124m\"\u001b[39m\u001b[38;5;241m.\u001b[39mformat(\n\u001b[0;32m    841\u001b[0m             n_splits, n_candidates, n_candidates \u001b[38;5;241m*\u001b[39m n_splits\n\u001b[0;32m    842\u001b[0m         )\n\u001b[0;32m    843\u001b[0m     )\n\u001b[1;32m--> 845\u001b[0m out \u001b[38;5;241m=\u001b[39m \u001b[43mparallel\u001b[49m\u001b[43m(\u001b[49m\n\u001b[0;32m    846\u001b[0m \u001b[43m    \u001b[49m\u001b[43mdelayed\u001b[49m\u001b[43m(\u001b[49m\u001b[43m_fit_and_score\u001b[49m\u001b[43m)\u001b[49m\u001b[43m(\u001b[49m\n\u001b[0;32m    847\u001b[0m \u001b[43m        \u001b[49m\u001b[43mclone\u001b[49m\u001b[43m(\u001b[49m\u001b[43mbase_estimator\u001b[49m\u001b[43m)\u001b[49m\u001b[43m,\u001b[49m\n\u001b[0;32m    848\u001b[0m \u001b[43m        \u001b[49m\u001b[43mX\u001b[49m\u001b[43m,\u001b[49m\n\u001b[0;32m    849\u001b[0m \u001b[43m        \u001b[49m\u001b[43my\u001b[49m\u001b[43m,\u001b[49m\n\u001b[0;32m    850\u001b[0m \u001b[43m        \u001b[49m\u001b[43mtrain\u001b[49m\u001b[38;5;241;43m=\u001b[39;49m\u001b[43mtrain\u001b[49m\u001b[43m,\u001b[49m\n\u001b[0;32m    851\u001b[0m \u001b[43m        \u001b[49m\u001b[43mtest\u001b[49m\u001b[38;5;241;43m=\u001b[39;49m\u001b[43mtest\u001b[49m\u001b[43m,\u001b[49m\n\u001b[0;32m    852\u001b[0m \u001b[43m        \u001b[49m\u001b[43mparameters\u001b[49m\u001b[38;5;241;43m=\u001b[39;49m\u001b[43mparameters\u001b[49m\u001b[43m,\u001b[49m\n\u001b[0;32m    853\u001b[0m \u001b[43m        \u001b[49m\u001b[43msplit_progress\u001b[49m\u001b[38;5;241;43m=\u001b[39;49m\u001b[43m(\u001b[49m\u001b[43msplit_idx\u001b[49m\u001b[43m,\u001b[49m\u001b[43m \u001b[49m\u001b[43mn_splits\u001b[49m\u001b[43m)\u001b[49m\u001b[43m,\u001b[49m\n\u001b[0;32m    854\u001b[0m \u001b[43m        \u001b[49m\u001b[43mcandidate_progress\u001b[49m\u001b[38;5;241;43m=\u001b[39;49m\u001b[43m(\u001b[49m\u001b[43mcand_idx\u001b[49m\u001b[43m,\u001b[49m\u001b[43m \u001b[49m\u001b[43mn_candidates\u001b[49m\u001b[43m)\u001b[49m\u001b[43m,\u001b[49m\n\u001b[0;32m    855\u001b[0m \u001b[43m        \u001b[49m\u001b[38;5;241;43m*\u001b[39;49m\u001b[38;5;241;43m*\u001b[39;49m\u001b[43mfit_and_score_kwargs\u001b[49m\u001b[43m,\u001b[49m\n\u001b[0;32m    856\u001b[0m \u001b[43m    \u001b[49m\u001b[43m)\u001b[49m\n\u001b[0;32m    857\u001b[0m \u001b[43m    \u001b[49m\u001b[38;5;28;43;01mfor\u001b[39;49;00m\u001b[43m \u001b[49m\u001b[43m(\u001b[49m\u001b[43mcand_idx\u001b[49m\u001b[43m,\u001b[49m\u001b[43m \u001b[49m\u001b[43mparameters\u001b[49m\u001b[43m)\u001b[49m\u001b[43m,\u001b[49m\u001b[43m \u001b[49m\u001b[43m(\u001b[49m\u001b[43msplit_idx\u001b[49m\u001b[43m,\u001b[49m\u001b[43m \u001b[49m\u001b[43m(\u001b[49m\u001b[43mtrain\u001b[49m\u001b[43m,\u001b[49m\u001b[43m \u001b[49m\u001b[43mtest\u001b[49m\u001b[43m)\u001b[49m\u001b[43m)\u001b[49m\u001b[43m \u001b[49m\u001b[38;5;129;43;01min\u001b[39;49;00m\u001b[43m \u001b[49m\u001b[43mproduct\u001b[49m\u001b[43m(\u001b[49m\n\u001b[0;32m    858\u001b[0m \u001b[43m        \u001b[49m\u001b[38;5;28;43menumerate\u001b[39;49m\u001b[43m(\u001b[49m\u001b[43mcandidate_params\u001b[49m\u001b[43m)\u001b[49m\u001b[43m,\u001b[49m\u001b[43m \u001b[49m\u001b[38;5;28;43menumerate\u001b[39;49m\u001b[43m(\u001b[49m\u001b[43mcv\u001b[49m\u001b[38;5;241;43m.\u001b[39;49m\u001b[43msplit\u001b[49m\u001b[43m(\u001b[49m\u001b[43mX\u001b[49m\u001b[43m,\u001b[49m\u001b[43m \u001b[49m\u001b[43my\u001b[49m\u001b[43m,\u001b[49m\u001b[43m \u001b[49m\u001b[43mgroups\u001b[49m\u001b[43m)\u001b[49m\u001b[43m)\u001b[49m\n\u001b[0;32m    859\u001b[0m \u001b[43m    \u001b[49m\u001b[43m)\u001b[49m\n\u001b[0;32m    860\u001b[0m \u001b[43m\u001b[49m\u001b[43m)\u001b[49m\n\u001b[0;32m    862\u001b[0m \u001b[38;5;28;01mif\u001b[39;00m \u001b[38;5;28mlen\u001b[39m(out) \u001b[38;5;241m<\u001b[39m \u001b[38;5;241m1\u001b[39m:\n\u001b[0;32m    863\u001b[0m     \u001b[38;5;28;01mraise\u001b[39;00m \u001b[38;5;167;01mValueError\u001b[39;00m(\n\u001b[0;32m    864\u001b[0m         \u001b[38;5;124m\"\u001b[39m\u001b[38;5;124mNo fits were performed. \u001b[39m\u001b[38;5;124m\"\u001b[39m\n\u001b[0;32m    865\u001b[0m         \u001b[38;5;124m\"\u001b[39m\u001b[38;5;124mWas the CV iterator empty? \u001b[39m\u001b[38;5;124m\"\u001b[39m\n\u001b[0;32m    866\u001b[0m         \u001b[38;5;124m\"\u001b[39m\u001b[38;5;124mWere there no candidates?\u001b[39m\u001b[38;5;124m\"\u001b[39m\n\u001b[0;32m    867\u001b[0m     )\n",
      "File \u001b[1;32me:\\Anaconda\\envs\\comp0186\\Lib\\site-packages\\sklearn\\utils\\parallel.py:65\u001b[0m, in \u001b[0;36mParallel.__call__\u001b[1;34m(self, iterable)\u001b[0m\n\u001b[0;32m     60\u001b[0m config \u001b[38;5;241m=\u001b[39m get_config()\n\u001b[0;32m     61\u001b[0m iterable_with_config \u001b[38;5;241m=\u001b[39m (\n\u001b[0;32m     62\u001b[0m     (_with_config(delayed_func, config), args, kwargs)\n\u001b[0;32m     63\u001b[0m     \u001b[38;5;28;01mfor\u001b[39;00m delayed_func, args, kwargs \u001b[38;5;129;01min\u001b[39;00m iterable\n\u001b[0;32m     64\u001b[0m )\n\u001b[1;32m---> 65\u001b[0m \u001b[38;5;28;01mreturn\u001b[39;00m \u001b[38;5;28;43msuper\u001b[39;49m\u001b[43m(\u001b[49m\u001b[43m)\u001b[49m\u001b[38;5;241;43m.\u001b[39;49m\u001b[38;5;21;43m__call__\u001b[39;49m\u001b[43m(\u001b[49m\u001b[43miterable_with_config\u001b[49m\u001b[43m)\u001b[49m\n",
      "File \u001b[1;32me:\\Anaconda\\envs\\comp0186\\Lib\\site-packages\\joblib\\parallel.py:1098\u001b[0m, in \u001b[0;36mParallel.__call__\u001b[1;34m(self, iterable)\u001b[0m\n\u001b[0;32m   1095\u001b[0m     \u001b[38;5;28mself\u001b[39m\u001b[38;5;241m.\u001b[39m_iterating \u001b[38;5;241m=\u001b[39m \u001b[38;5;28;01mFalse\u001b[39;00m\n\u001b[0;32m   1097\u001b[0m \u001b[38;5;28;01mwith\u001b[39;00m \u001b[38;5;28mself\u001b[39m\u001b[38;5;241m.\u001b[39m_backend\u001b[38;5;241m.\u001b[39mretrieval_context():\n\u001b[1;32m-> 1098\u001b[0m     \u001b[38;5;28;43mself\u001b[39;49m\u001b[38;5;241;43m.\u001b[39;49m\u001b[43mretrieve\u001b[49m\u001b[43m(\u001b[49m\u001b[43m)\u001b[49m\n\u001b[0;32m   1099\u001b[0m \u001b[38;5;66;03m# Make sure that we get a last message telling us we are done\u001b[39;00m\n\u001b[0;32m   1100\u001b[0m elapsed_time \u001b[38;5;241m=\u001b[39m time\u001b[38;5;241m.\u001b[39mtime() \u001b[38;5;241m-\u001b[39m \u001b[38;5;28mself\u001b[39m\u001b[38;5;241m.\u001b[39m_start_time\n",
      "File \u001b[1;32me:\\Anaconda\\envs\\comp0186\\Lib\\site-packages\\joblib\\parallel.py:975\u001b[0m, in \u001b[0;36mParallel.retrieve\u001b[1;34m(self)\u001b[0m\n\u001b[0;32m    973\u001b[0m \u001b[38;5;28;01mtry\u001b[39;00m:\n\u001b[0;32m    974\u001b[0m     \u001b[38;5;28;01mif\u001b[39;00m \u001b[38;5;28mgetattr\u001b[39m(\u001b[38;5;28mself\u001b[39m\u001b[38;5;241m.\u001b[39m_backend, \u001b[38;5;124m'\u001b[39m\u001b[38;5;124msupports_timeout\u001b[39m\u001b[38;5;124m'\u001b[39m, \u001b[38;5;28;01mFalse\u001b[39;00m):\n\u001b[1;32m--> 975\u001b[0m         \u001b[38;5;28mself\u001b[39m\u001b[38;5;241m.\u001b[39m_output\u001b[38;5;241m.\u001b[39mextend(\u001b[43mjob\u001b[49m\u001b[38;5;241;43m.\u001b[39;49m\u001b[43mget\u001b[49m\u001b[43m(\u001b[49m\u001b[43mtimeout\u001b[49m\u001b[38;5;241;43m=\u001b[39;49m\u001b[38;5;28;43mself\u001b[39;49m\u001b[38;5;241;43m.\u001b[39;49m\u001b[43mtimeout\u001b[49m\u001b[43m)\u001b[49m)\n\u001b[0;32m    976\u001b[0m     \u001b[38;5;28;01melse\u001b[39;00m:\n\u001b[0;32m    977\u001b[0m         \u001b[38;5;28mself\u001b[39m\u001b[38;5;241m.\u001b[39m_output\u001b[38;5;241m.\u001b[39mextend(job\u001b[38;5;241m.\u001b[39mget())\n",
      "File \u001b[1;32me:\\Anaconda\\envs\\comp0186\\Lib\\site-packages\\joblib\\_parallel_backends.py:567\u001b[0m, in \u001b[0;36mLokyBackend.wrap_future_result\u001b[1;34m(future, timeout)\u001b[0m\n\u001b[0;32m    564\u001b[0m \u001b[38;5;250m\u001b[39m\u001b[38;5;124;03m\"\"\"Wrapper for Future.result to implement the same behaviour as\u001b[39;00m\n\u001b[0;32m    565\u001b[0m \u001b[38;5;124;03mAsyncResults.get from multiprocessing.\"\"\"\u001b[39;00m\n\u001b[0;32m    566\u001b[0m \u001b[38;5;28;01mtry\u001b[39;00m:\n\u001b[1;32m--> 567\u001b[0m     \u001b[38;5;28;01mreturn\u001b[39;00m \u001b[43mfuture\u001b[49m\u001b[38;5;241;43m.\u001b[39;49m\u001b[43mresult\u001b[49m\u001b[43m(\u001b[49m\u001b[43mtimeout\u001b[49m\u001b[38;5;241;43m=\u001b[39;49m\u001b[43mtimeout\u001b[49m\u001b[43m)\u001b[49m\n\u001b[0;32m    568\u001b[0m \u001b[38;5;28;01mexcept\u001b[39;00m CfTimeoutError \u001b[38;5;28;01mas\u001b[39;00m e:\n\u001b[0;32m    569\u001b[0m     \u001b[38;5;28;01mraise\u001b[39;00m \u001b[38;5;167;01mTimeoutError\u001b[39;00m \u001b[38;5;28;01mfrom\u001b[39;00m \u001b[38;5;21;01me\u001b[39;00m\n",
      "File \u001b[1;32me:\\Anaconda\\envs\\comp0186\\Lib\\concurrent\\futures\\_base.py:456\u001b[0m, in \u001b[0;36mFuture.result\u001b[1;34m(self, timeout)\u001b[0m\n\u001b[0;32m    454\u001b[0m     \u001b[38;5;28;01mraise\u001b[39;00m CancelledError()\n\u001b[0;32m    455\u001b[0m \u001b[38;5;28;01melif\u001b[39;00m \u001b[38;5;28mself\u001b[39m\u001b[38;5;241m.\u001b[39m_state \u001b[38;5;241m==\u001b[39m FINISHED:\n\u001b[1;32m--> 456\u001b[0m     \u001b[38;5;28;01mreturn\u001b[39;00m \u001b[38;5;28;43mself\u001b[39;49m\u001b[38;5;241;43m.\u001b[39;49m\u001b[43m__get_result\u001b[49m\u001b[43m(\u001b[49m\u001b[43m)\u001b[49m\n\u001b[0;32m    457\u001b[0m \u001b[38;5;28;01melse\u001b[39;00m:\n\u001b[0;32m    458\u001b[0m     \u001b[38;5;28;01mraise\u001b[39;00m \u001b[38;5;167;01mTimeoutError\u001b[39;00m()\n",
      "File \u001b[1;32me:\\Anaconda\\envs\\comp0186\\Lib\\concurrent\\futures\\_base.py:401\u001b[0m, in \u001b[0;36mFuture.__get_result\u001b[1;34m(self)\u001b[0m\n\u001b[0;32m    399\u001b[0m \u001b[38;5;28;01mif\u001b[39;00m \u001b[38;5;28mself\u001b[39m\u001b[38;5;241m.\u001b[39m_exception:\n\u001b[0;32m    400\u001b[0m     \u001b[38;5;28;01mtry\u001b[39;00m:\n\u001b[1;32m--> 401\u001b[0m         \u001b[38;5;28;01mraise\u001b[39;00m \u001b[38;5;28mself\u001b[39m\u001b[38;5;241m.\u001b[39m_exception\n\u001b[0;32m    402\u001b[0m     \u001b[38;5;28;01mfinally\u001b[39;00m:\n\u001b[0;32m    403\u001b[0m         \u001b[38;5;66;03m# Break a reference cycle with the exception in self._exception\u001b[39;00m\n\u001b[0;32m    404\u001b[0m         \u001b[38;5;28mself\u001b[39m \u001b[38;5;241m=\u001b[39m \u001b[38;5;28;01mNone\u001b[39;00m\n",
      "\u001b[1;31mTerminatedWorkerError\u001b[0m: A worker process managed by the executor was unexpectedly terminated. This could be caused by a segmentation fault while calling the function or by an excessive memory usage causing the Operating System to kill the worker.\n"
     ]
    }
   ],
   "source": [
    "# from sklearn.model_selection import RandomizedSearchCV, KFold\n",
    "# from scipy.stats import loguniform\n",
    "# from sklearn.linear_model import LogisticRegression\n",
    "# from sklearn.pipeline import make_pipeline\n",
    "# from sklearn import metrics\n",
    "# import numpy as np\n",
    "# from sklearn.preprocessing import StandardScaler\n",
    "\n",
    "# cv = KFold(n_splits=2, shuffle=True, random_state=1)\n",
    "\n",
    "\n",
    "# estimator = make_pipeline(\n",
    "#     VBMFeatureExtractor(),\n",
    "#     StandardScaler(),\n",
    "#     LogisticRegression(penalty = 'l1', random_state=1, solver='liblinear'))\n",
    "\n",
    "# # Setup the hyperparameter distributions to sample from\n",
    "# param_distributions = {\n",
    "#     'logisticregression__C': loguniform(1e-3, 10)\n",
    "# }\n",
    "\n",
    "# # Setup RandomizedSearchCV\n",
    "# random_search = RandomizedSearchCV(estimator,\n",
    "#                                    param_distributions=param_distributions,\n",
    "#                                    n_iter=100,\n",
    "#                                    scoring=['roc_auc', 'balanced_accuracy'],\n",
    "#                                    refit='balanced_accuracy',\n",
    "#                                    cv=cv,\n",
    "#                                    verbose=1,\n",
    "#                                    n_jobs=5,\n",
    "#                                    random_state=1,\n",
    "#                                    return_train_score=True)\n",
    "\n",
    "# # Fit RandomizedSearchCV\n",
    "# random_search.fit(X_train, y_train)\n",
    "\n",
    "# print(\"Best parameters:\", random_search.best_params_)\n",
    "\n",
    "# # Reporting cross-validation results\n",
    "# print(\"# 5CV\")\n",
    "# print('bACC=%.2f' % np.mean(random_search.cv_results_['mean_test_balanced_accuracy']),\n",
    "#       'ROC-AUC=%.2f' % np.mean(random_search.cv_results_['mean_test_roc_auc']))\n",
    "\n",
    "# # Using the best estimator found to predict on test data\n",
    "# y_pred_test = random_search.predict(X_test)\n",
    "# score_pred_test = random_search.predict_proba(X_test)[:, 1]\n",
    "\n",
    "# # Calculate test scores\n",
    "# bacc_test = metrics.balanced_accuracy_score(y_test, y_pred_test)\n",
    "# auc_test = metrics.roc_auc_score(y_test, score_pred_test)\n",
    "\n",
    "# # Print test results\n",
    "# print(\"# Test\")\n",
    "# print('bACC=%.2f' % bacc_test, 'ROC-AUC=%.2f' % auc_test)\n"
   ]
  },
  {
   "cell_type": "markdown",
   "metadata": {},
   "source": [
    "Random Forest"
   ]
  },
  {
   "cell_type": "code",
   "execution_count": 11,
   "metadata": {},
   "outputs": [
    {
     "name": "stderr",
     "output_type": "stream",
     "text": [
      "[Parallel(n_jobs=5)]: Using backend LokyBackend with 5 concurrent workers.\n",
      "[Parallel(n_jobs=5)]: Done   2 out of   2 | elapsed:   12.2s remaining:    0.0s\n",
      "[Parallel(n_jobs=5)]: Done   2 out of   2 | elapsed:   12.2s finished\n"
     ]
    },
    {
     "name": "stdout",
     "output_type": "stream",
     "text": [
      "# 5CV\n",
      "bACC=0.70 ROC-AUC=0.78\n",
      "# Test\n",
      "bACC=0.72 ROC-AUC=0.80\n"
     ]
    }
   ],
   "source": [
    "# Random forest | common cross validation | RIO features only\n",
    "\n",
    "from sklearn.model_selection import StratifiedGroupKFold\n",
    "from sklearn.pipeline import make_pipeline\n",
    "from sklearn.ensemble import RandomForestClassifier\n",
    "from sklearn.model_selection import cross_validate\n",
    "from sklearn import metrics\n",
    "\n",
    "cv = KFold(n_splits=2, shuffle=True, random_state=1)\n",
    "\n",
    "estimator = make_pipeline(\n",
    "    ROIsFeatureExtractor(),\n",
    "    StandardScaler(),\n",
    "    RandomForestClassifier(random_state=1))\n",
    "    \n",
    "cv_results = cross_validate(estimator, X_train, y_train, scoring=['balanced_accuracy', 'roc_auc'], cv=cv,\n",
    "                         verbose=1, return_train_score=True, n_jobs=5)\n",
    "\n",
    "print(\"# 5CV\")\n",
    "print('bACC=%.2f' % cv_results['test_balanced_accuracy'].mean(),\n",
    "      'ROC-AUC=%.2f' % cv_results['test_roc_auc'].mean())\n",
    "\n",
    "# Refit on all train\n",
    "estimator.fit(X_train, y_train)\n",
    "# Apply on test\n",
    "y_pred_train = estimator.predict(X_train)\n",
    "y_pred_test = estimator.predict(X_test)\n",
    "score_pred_test = estimator.predict_proba(X_test)[:, 1]\n",
    "\n",
    "bacc_test = metrics.balanced_accuracy_score(y_test, y_pred_test)\n",
    "auc_test = metrics.roc_auc_score(y_test, score_pred_test)\n",
    "print(\"# Test\")\n",
    "print('bACC=%.2f' % bacc_test,\n",
    "      'ROC-AUC=%.2f' % auc_test)"
   ]
  },
  {
   "cell_type": "code",
   "execution_count": 12,
   "metadata": {},
   "outputs": [
    {
     "name": "stdout",
     "output_type": "stream",
     "text": [
      "Fitting 2 folds for each of 100 candidates, totalling 200 fits\n",
      "Best parameters: {'randomforestclassifier__max_depth': 6, 'randomforestclassifier__max_features': 'sqrt', 'randomforestclassifier__min_samples_leaf': 4, 'randomforestclassifier__min_samples_split': 3, 'randomforestclassifier__n_estimators': 275}\n",
      "# 5CV\n",
      "bACC=0.68 ROC-AUC=0.78\n",
      "# Test\n",
      "bACC=0.74 ROC-AUC=0.80\n"
     ]
    }
   ],
   "source": [
    "# Hyperparameter Tuning | Random forest | common cross validation | RIO features only\n",
    "\n",
    "from sklearn.model_selection import KFold, RandomizedSearchCV\n",
    "from sklearn.pipeline import make_pipeline\n",
    "from sklearn.ensemble import RandomForestClassifier\n",
    "from scipy.stats import randint\n",
    "\n",
    "\n",
    "cv = KFold(n_splits=2, shuffle=True, random_state=1)\n",
    "\n",
    "estimator = make_pipeline(\n",
    "    ROIsFeatureExtractor(),\n",
    "    StandardScaler(),\n",
    "    RandomForestClassifier(random_state=1))\n",
    "\n",
    "# Setup the hyperparameter distributions to sample from for RandomForestClassifier\n",
    "param_distributions = {\n",
    "    'randomforestclassifier__n_estimators': randint(100, 300),\n",
    "    'randomforestclassifier__max_depth': randint(3, 10),\n",
    "    'randomforestclassifier__min_samples_split': randint(2, 6),\n",
    "    'randomforestclassifier__min_samples_leaf': randint(1, 6), \n",
    "    'randomforestclassifier__max_features': ['sqrt', 'log2']\n",
    "}\n",
    "\n",
    "# Setup RandomizedSearchCV\n",
    "random_search = RandomizedSearchCV(estimator,\n",
    "                                   param_distributions=param_distributions,\n",
    "                                   n_iter=100,\n",
    "                                   scoring=['roc_auc', 'balanced_accuracy'],\n",
    "                                   refit='balanced_accuracy',\n",
    "                                   cv=cv,\n",
    "                                   verbose=1,\n",
    "                                   n_jobs=5,\n",
    "                                   random_state=1,\n",
    "                                   return_train_score=True)\n",
    "\n",
    "\n",
    "# Fit RandomizedSearchCV\n",
    "random_search.fit(X_train, y_train)\n",
    "\n",
    "print(\"Best parameters:\", random_search.best_params_)\n",
    "\n",
    "# Reporting cross-validation results\n",
    "print(\"# 5CV\")\n",
    "print('bACC=%.2f' % np.mean(random_search.cv_results_['mean_test_balanced_accuracy']),\n",
    "      'ROC-AUC=%.2f' % np.mean(random_search.cv_results_['mean_test_roc_auc']))\n",
    "\n",
    "# Using the best estimator found to predict on test data\n",
    "y_pred_test = random_search.predict(X_test)\n",
    "score_pred_test = random_search.predict_proba(X_test)[:, 1]\n",
    "\n",
    "# Calculate test scores\n",
    "bacc_test = metrics.balanced_accuracy_score(y_test, y_pred_test)\n",
    "auc_test = metrics.roc_auc_score(y_test, score_pred_test)\n",
    "\n",
    "# Print test results\n",
    "print(\"# Test\")\n",
    "print('bACC=%.2f' % bacc_test, 'ROC-AUC=%.2f' % auc_test)"
   ]
  },
  {
   "cell_type": "code",
   "execution_count": 29,
   "metadata": {},
   "outputs": [
    {
     "name": "stdout",
     "output_type": "stream",
     "text": [
      "Training and testing time: 2.0580 seconds\n"
     ]
    }
   ],
   "source": [
    "import time\n",
    "\n",
    "start_train_test = time.time()\n",
    "\n",
    "estimator = make_pipeline(\n",
    "    ROIsFeatureExtractor(),\n",
    "    StandardScaler(),\n",
    "    RandomForestClassifier(random_state=1, max_depth=6, max_features='sqrt', min_samples_leaf=4, min_samples_split = 3, n_estimators = 275))\n",
    "\n",
    "    \n",
    "\n",
    "# Refit on all train\n",
    "estimator.fit(X_train, y_train)\n",
    "# Apply on test\n",
    "y_pred_train = estimator.predict(X_train)\n",
    "y_pred_test = estimator.predict(X_test)\n",
    "score_pred_test = estimator.predict_proba(X_test)[:, 1]\n",
    "\n",
    "bacc_test = metrics.balanced_accuracy_score(y_test, y_pred_test)\n",
    "auc_test = metrics.roc_auc_score(y_test, score_pred_test)\n",
    "\n",
    "end_train_test = time.time()\n",
    "\n",
    "# Calculate and print training and testing time rounded to 4 digits\n",
    "train_test_time = end_train_test - start_train_test\n",
    "print(\"Training and testing time:\", \"{:.4f} seconds\".format(train_test_time))\n"
   ]
  },
  {
   "cell_type": "code",
   "execution_count": 13,
   "metadata": {},
   "outputs": [
    {
     "name": "stderr",
     "output_type": "stream",
     "text": [
      "[Parallel(n_jobs=5)]: Using backend LokyBackend with 5 concurrent workers.\n",
      "[Parallel(n_jobs=5)]: Done   2 out of   2 | elapsed:   10.7s remaining:    0.0s\n",
      "[Parallel(n_jobs=5)]: Done   2 out of   2 | elapsed:   10.7s finished\n"
     ]
    },
    {
     "name": "stdout",
     "output_type": "stream",
     "text": [
      "# 5CV\n",
      "bACC=0.70 ROC-AUC=0.77\n",
      "# Test\n",
      "bACC=0.72 ROC-AUC=0.80\n"
     ]
    }
   ],
   "source": [
    "# Random forest | GroupStratifiedKFold cross validation | RIO features only\n",
    "\n",
    "from sklearn.ensemble import RandomForestClassifier\n",
    "\n",
    "groups = participants_train['sex'].values\n",
    "\n",
    "# Assuming VBMFeatureExtractor is defined elsewhere\n",
    "estimator = make_pipeline(\n",
    "    ROIsFeatureExtractor(),\n",
    "    StandardScaler(),\n",
    "    RandomForestClassifier(random_state=1))\n",
    "\n",
    "\n",
    "# Modify the number of splits as needed\n",
    "cv = StratifiedGroupKFold(n_splits=2, shuffle=True, random_state=1)\n",
    "\n",
    "cv_results = cross_validate(estimator, X_train, y_train, groups=groups,\n",
    "                            scoring=['balanced_accuracy', 'roc_auc'], cv=cv,\n",
    "                            verbose=1, return_train_score=True, n_jobs=5)\n",
    "\n",
    "print(\"# 5CV\")\n",
    "print('bACC=%.2f' % cv_results['test_balanced_accuracy'].mean(),\n",
    "      'ROC-AUC=%.2f' % cv_results['test_roc_auc'].mean())\n",
    "\n",
    "# Refit on all train\n",
    "estimator.fit(X_train, y_train)\n",
    "# Apply on test\n",
    "y_pred_train = estimator.predict(X_train)\n",
    "y_pred_test = estimator.predict(X_test)\n",
    "score_pred_test = estimator.predict_proba(X_test)[:, 1]\n",
    "\n",
    "bacc_test = metrics.balanced_accuracy_score(y_test, y_pred_test)\n",
    "auc_test = metrics.roc_auc_score(y_test, score_pred_test)\n",
    "print(\"# Test\")\n",
    "print('bACC=%.2f' % bacc_test,\n",
    "      'ROC-AUC=%.2f' % auc_test)\n"
   ]
  },
  {
   "cell_type": "code",
   "execution_count": 14,
   "metadata": {},
   "outputs": [
    {
     "name": "stdout",
     "output_type": "stream",
     "text": [
      "Fitting 2 folds for each of 100 candidates, totalling 200 fits\n",
      "Best parameters: {'randomforestclassifier__max_depth': 6, 'randomforestclassifier__max_features': 'sqrt', 'randomforestclassifier__min_samples_leaf': 2, 'randomforestclassifier__min_samples_split': 3, 'randomforestclassifier__n_estimators': 103}\n",
      "# 5CV\n",
      "bACC=0.68 ROC-AUC=0.77\n",
      "# Test\n",
      "bACC=0.71 ROC-AUC=0.78\n"
     ]
    }
   ],
   "source": [
    "# Hyperparameter Tuning | Random forest | common cross validation | RIO features only\n",
    "\n",
    "from sklearn.model_selection import KFold, RandomizedSearchCV\n",
    "from sklearn.pipeline import make_pipeline\n",
    "from sklearn.ensemble import RandomForestClassifier\n",
    "from scipy.stats import randint\n",
    "\n",
    "\n",
    "cv = StratifiedGroupKFold(n_splits=2, shuffle=True, random_state=1)\n",
    "\n",
    "estimator = make_pipeline(\n",
    "    ROIsFeatureExtractor(),\n",
    "    StandardScaler(),\n",
    "    RandomForestClassifier(random_state=1))\n",
    "\n",
    "# Setup the hyperparameter distributions to sample from for RandomForestClassifier\n",
    "param_distributions = {\n",
    "    'randomforestclassifier__n_estimators': randint(100, 300),\n",
    "    'randomforestclassifier__max_depth': randint(3, 10),\n",
    "    'randomforestclassifier__min_samples_split': randint(2, 6),\n",
    "    'randomforestclassifier__min_samples_leaf': randint(1, 6), \n",
    "    'randomforestclassifier__max_features': ['sqrt', 'log2']\n",
    "}\n",
    "\n",
    "# Setup RandomizedSearchCV\n",
    "random_search = RandomizedSearchCV(estimator,\n",
    "                                   param_distributions=param_distributions,\n",
    "                                   n_iter=100,\n",
    "                                   scoring=['roc_auc', 'balanced_accuracy'],\n",
    "                                   refit='balanced_accuracy',\n",
    "                                   cv=cv,\n",
    "                                   verbose=1,\n",
    "                                   n_jobs=5,\n",
    "                                   random_state=1,\n",
    "                                   return_train_score=True)\n",
    "\n",
    "# Pass the groups to the fit method\n",
    "random_search.fit(X_train, y_train, groups=groups)\n",
    "\n",
    "print(\"Best parameters:\", random_search.best_params_)\n",
    "\n",
    "# Reporting cross-validation results\n",
    "print(\"# 5CV\")\n",
    "print('bACC=%.2f' % np.mean(random_search.cv_results_['mean_test_balanced_accuracy']),\n",
    "      'ROC-AUC=%.2f' % np.mean(random_search.cv_results_['mean_test_roc_auc']))\n",
    "\n",
    "# Using the best estimator found to predict on test data\n",
    "y_pred_test = random_search.predict(X_test)\n",
    "score_pred_test = random_search.predict_proba(X_test)[:, 1]\n",
    "\n",
    "# Calculate test scores\n",
    "bacc_test = metrics.balanced_accuracy_score(y_test, y_pred_test)\n",
    "auc_test = metrics.roc_auc_score(y_test, score_pred_test)\n",
    "\n",
    "# Print test results\n",
    "print(\"# Test\")\n",
    "print('bACC=%.2f' % bacc_test, 'ROC-AUC=%.2f' % auc_test)"
   ]
  },
  {
   "cell_type": "code",
   "execution_count": 30,
   "metadata": {},
   "outputs": [
    {
     "name": "stdout",
     "output_type": "stream",
     "text": [
      "Training and testing time: 0.7300 seconds\n"
     ]
    }
   ],
   "source": [
    "import time\n",
    "start_train_test = time.time()\n",
    "\n",
    "estimator = make_pipeline(\n",
    "    ROIsFeatureExtractor(),\n",
    "    StandardScaler(),\n",
    "    RandomForestClassifier(random_state=1, max_depth=6, max_features='sqrt', min_samples_leaf=2, min_samples_split = 3, n_estimators = 103))\n",
    "\n",
    "    \n",
    "\n",
    "# Refit on all train\n",
    "estimator.fit(X_train, y_train)\n",
    "# Apply on test\n",
    "y_pred_train = estimator.predict(X_train)\n",
    "y_pred_test = estimator.predict(X_test)\n",
    "score_pred_test = estimator.predict_proba(X_test)[:, 1]\n",
    "\n",
    "bacc_test = metrics.balanced_accuracy_score(y_test, y_pred_test)\n",
    "auc_test = metrics.roc_auc_score(y_test, score_pred_test)\n",
    "\n",
    "end_train_test = time.time()\n",
    "\n",
    "# Calculate and print training and testing time rounded to 4 digits\n",
    "train_test_time = end_train_test - start_train_test\n",
    "print(\"Training and testing time:\", \"{:.4f} seconds\".format(train_test_time))"
   ]
  },
  {
   "cell_type": "code",
   "execution_count": 15,
   "metadata": {},
   "outputs": [
    {
     "name": "stderr",
     "output_type": "stream",
     "text": [
      "[Parallel(n_jobs=5)]: Using backend LokyBackend with 5 concurrent workers.\n",
      "[Parallel(n_jobs=5)]: Done   2 out of   2 | elapsed:   25.2s remaining:    0.0s\n",
      "[Parallel(n_jobs=5)]: Done   2 out of   2 | elapsed:   25.2s finished\n"
     ]
    },
    {
     "name": "stdout",
     "output_type": "stream",
     "text": [
      "# 5CV\n",
      "bACC=0.64 ROC-AUC=0.73\n",
      "# Test\n",
      "bACC=0.64 ROC-AUC=0.69\n"
     ]
    }
   ],
   "source": [
    "# Random forest | common cross validation | VBM features only\n",
    "\n",
    "cv = KFold(n_splits=2, shuffle=True, random_state=1)\n",
    "\n",
    "estimator = make_pipeline(\n",
    "    VBMFeatureExtractor(),\n",
    "    StandardScaler(),\n",
    "    RandomForestClassifier(random_state=1))\n",
    "    \n",
    "cv_results = cross_validate(estimator, X_train, y_train, scoring=['balanced_accuracy', 'roc_auc'], cv=cv,\n",
    "                         verbose=1, return_train_score=True, n_jobs=5)\n",
    "\n",
    "print(\"# 5CV\")\n",
    "print('bACC=%.2f' % cv_results['test_balanced_accuracy'].mean(),\n",
    "      'ROC-AUC=%.2f' % cv_results['test_roc_auc'].mean())\n",
    "\n",
    "# Refit on all train\n",
    "estimator.fit(X_train, y_train)\n",
    "# Apply on test\n",
    "y_pred_train = estimator.predict(X_train)\n",
    "y_pred_test = estimator.predict(X_test)\n",
    "score_pred_test = estimator.predict_proba(X_test)[:, 1]\n",
    "\n",
    "bacc_test = metrics.balanced_accuracy_score(y_test, y_pred_test)\n",
    "auc_test = metrics.roc_auc_score(y_test, score_pred_test)\n",
    "print(\"# Test\")\n",
    "print('bACC=%.2f' % bacc_test,\n",
    "      'ROC-AUC=%.2f' % auc_test)"
   ]
  },
  {
   "cell_type": "code",
   "execution_count": 16,
   "metadata": {},
   "outputs": [
    {
     "name": "stdout",
     "output_type": "stream",
     "text": [
      "Fitting 2 folds for each of 100 candidates, totalling 200 fits\n",
      "Best parameters: {'randomforestclassifier__max_depth': 3, 'randomforestclassifier__max_features': 'sqrt', 'randomforestclassifier__min_samples_leaf': 4, 'randomforestclassifier__min_samples_split': 2, 'randomforestclassifier__n_estimators': 213}\n",
      "# 5CV\n",
      "bACC=0.64 ROC-AUC=0.73\n",
      "# Test\n",
      "bACC=0.60 ROC-AUC=0.69\n"
     ]
    }
   ],
   "source": [
    "# Hyperparameter Tuning | Random forest | common cross validation | VBM features only\n",
    "\n",
    "from sklearn.model_selection import KFold, RandomizedSearchCV\n",
    "from sklearn.pipeline import make_pipeline\n",
    "from sklearn.ensemble import RandomForestClassifier\n",
    "from scipy.stats import randint\n",
    "\n",
    "\n",
    "cv = KFold(n_splits=2, shuffle=True, random_state=1)\n",
    "\n",
    "estimator = make_pipeline(\n",
    "    VBMFeatureExtractor(),\n",
    "    StandardScaler(),\n",
    "    RandomForestClassifier(random_state=1))\n",
    "\n",
    "# Setup the hyperparameter distributions to sample from for RandomForestClassifier\n",
    "param_distributions = {\n",
    "    'randomforestclassifier__n_estimators': randint(100, 300),\n",
    "    'randomforestclassifier__max_depth': randint(3, 10),\n",
    "    'randomforestclassifier__min_samples_split': randint(2, 6),\n",
    "    'randomforestclassifier__min_samples_leaf': randint(1, 6),\n",
    "    'randomforestclassifier__max_features': ['sqrt', 'log2']\n",
    "}\n",
    "\n",
    "# Setup RandomizedSearchCV\n",
    "random_search = RandomizedSearchCV(estimator,\n",
    "                                   param_distributions=param_distributions,\n",
    "                                   n_iter=100,\n",
    "                                   scoring=['roc_auc', 'balanced_accuracy'],\n",
    "                                   refit='balanced_accuracy',\n",
    "                                   cv=cv,\n",
    "                                   verbose=1,\n",
    "                                   n_jobs=5,\n",
    "                                   random_state=1,\n",
    "                                   return_train_score=True)\n",
    "\n",
    "\n",
    "# Fit RandomizedSearchCV\n",
    "random_search.fit(X_train, y_train)\n",
    "\n",
    "print(\"Best parameters:\", random_search.best_params_)\n",
    "\n",
    "# Reporting cross-validation results\n",
    "print(\"# 5CV\")\n",
    "print('bACC=%.2f' % np.mean(random_search.cv_results_['mean_test_balanced_accuracy']),\n",
    "      'ROC-AUC=%.2f' % np.mean(random_search.cv_results_['mean_test_roc_auc']))\n",
    "\n",
    "# Using the best estimator found to predict on test data\n",
    "y_pred_test = random_search.predict(X_test)\n",
    "score_pred_test = random_search.predict_proba(X_test)[:, 1]\n",
    "\n",
    "# Calculate test scores\n",
    "bacc_test = metrics.balanced_accuracy_score(y_test, y_pred_test)\n",
    "auc_test = metrics.roc_auc_score(y_test, score_pred_test)\n",
    "\n",
    "# Print test results\n",
    "print(\"# Test\")\n",
    "print('bACC=%.2f' % bacc_test, 'ROC-AUC=%.2f' % auc_test)\n"
   ]
  },
  {
   "cell_type": "code",
   "execution_count": 31,
   "metadata": {},
   "outputs": [
    {
     "name": "stdout",
     "output_type": "stream",
     "text": [
      "Training and testing time: 24.1831 seconds\n"
     ]
    }
   ],
   "source": [
    "import time\n",
    "start_train_test = time.time()\n",
    "\n",
    "estimator = make_pipeline(\n",
    "    VBMFeatureExtractor(),\n",
    "    StandardScaler(),\n",
    "    RandomForestClassifier(random_state=1, max_depth=3, max_features='sqrt', min_samples_leaf=4, min_samples_split = 2, n_estimators = 213))\n",
    "\n",
    "    \n",
    "# Refit on all train\n",
    "estimator.fit(X_train, y_train)\n",
    "# Apply on test\n",
    "y_pred_train = estimator.predict(X_train)\n",
    "y_pred_test = estimator.predict(X_test)\n",
    "score_pred_test = estimator.predict_proba(X_test)[:, 1]\n",
    "\n",
    "bacc_test = metrics.balanced_accuracy_score(y_test, y_pred_test)\n",
    "auc_test = metrics.roc_auc_score(y_test, score_pred_test)\n",
    "\n",
    "end_train_test = time.time()\n",
    "\n",
    "\n",
    "# Calculate and print training and testing time rounded to 4 digits\n",
    "train_test_time = end_train_test - start_train_test\n",
    "print(\"Training and testing time:\", \"{:.4f} seconds\".format(train_test_time))\n"
   ]
  },
  {
   "cell_type": "code",
   "execution_count": 7,
   "metadata": {},
   "outputs": [
    {
     "name": "stdout",
     "output_type": "stream",
     "text": [
      "Fitting 2 folds for each of 100 candidates, totalling 200 fits\n"
     ]
    }
   ],
   "source": [
    "# Hyperparameter Tuning | Random forest | common cross validation | VBM features only\n",
    "\n",
    "from sklearn.model_selection import KFold, RandomizedSearchCV\n",
    "from sklearn.pipeline import make_pipeline\n",
    "from sklearn.ensemble import RandomForestClassifier\n",
    "from scipy.stats import randint\n",
    "from sklearn.preprocessing import StandardScaler\n",
    "\n",
    "\n",
    "cv = KFold(n_splits=2, shuffle=True, random_state=1)\n",
    "\n",
    "estimator = make_pipeline(\n",
    "    VBMFeatureExtractor(),\n",
    "    StandardScaler(),\n",
    "    RandomForestClassifier(random_state=1))\n",
    "\n",
    "# Setup the hyperparameter distributions to sample from for RandomForestClassifier\n",
    "param_distributions = {\n",
    "    'randomforestclassifier__n_estimators': randint(100, 300),\n",
    "    'randomforestclassifier__max_depth': randint(3, 15),\n",
    "    'randomforestclassifier__min_samples_split': randint(2, 9),\n",
    "    'randomforestclassifier__min_samples_leaf': randint(1, 9),\n",
    "    'randomforestclassifier__max_features': ['sqrt', 'log2', 0.3, 0.5],\n",
    "    'randomforestclassifier__bootstrap': [True, False],\n",
    "}\n",
    "\n",
    "\n",
    "# Setup RandomizedSearchCV\n",
    "random_search = RandomizedSearchCV(estimator,\n",
    "                                   param_distributions=param_distributions,\n",
    "                                   n_iter=100,\n",
    "                                   scoring=['roc_auc', 'balanced_accuracy'],\n",
    "                                   refit='balanced_accuracy',\n",
    "                                   cv=cv,\n",
    "                                   verbose=1,\n",
    "                                   n_jobs=5, \n",
    "                                   random_state=1,\n",
    "                                   return_train_score=True)\n",
    "\n",
    "\n",
    "# Fit RandomizedSearchCV\n",
    "random_search.fit(X_train, y_train)\n",
    "\n",
    "print(\"Best parameters:\", random_search.best_params_)\n",
    "\n",
    "# Reporting cross-validation results\n",
    "print(\"# 5CV\")\n",
    "print('bACC=%.2f' % np.mean(random_search.cv_results_['mean_test_balanced_accuracy']),\n",
    "      'ROC-AUC=%.2f' % np.mean(random_search.cv_results_['mean_test_roc_auc']))\n",
    "\n",
    "# Using the best estimator found to predict on test data\n",
    "y_pred_test = random_search.predict(X_test)\n",
    "score_pred_test = random_search.predict_proba(X_test)[:, 1]\n",
    "\n",
    "# Calculate test scores\n",
    "bacc_test = metrics.balanced_accuracy_score(y_test, y_pred_test)\n",
    "auc_test = metrics.roc_auc_score(y_test, score_pred_test)\n",
    "\n",
    "# Print test results\n",
    "print(\"# Test\")\n",
    "print('bACC=%.2f' % bacc_test, 'ROC-AUC=%.2f' % auc_test)\n"
   ]
  },
  {
   "cell_type": "code",
   "execution_count": 17,
   "metadata": {},
   "outputs": [
    {
     "name": "stderr",
     "output_type": "stream",
     "text": [
      "[Parallel(n_jobs=5)]: Using backend LokyBackend with 5 concurrent workers.\n",
      "[Parallel(n_jobs=5)]: Done   2 out of   2 | elapsed:   37.3s remaining:    0.0s\n",
      "[Parallel(n_jobs=5)]: Done   2 out of   2 | elapsed:   37.3s finished\n"
     ]
    },
    {
     "name": "stdout",
     "output_type": "stream",
     "text": [
      "# 5CV\n",
      "bACC=0.63 ROC-AUC=0.74\n",
      "# Test\n",
      "bACC=0.64 ROC-AUC=0.69\n"
     ]
    }
   ],
   "source": [
    "# Random forest | GroupStratifiedKFold cross validation | VBM features only\n",
    "\n",
    "groups = participants_train['sex'].values\n",
    "\n",
    "\n",
    "estimator = make_pipeline(\n",
    "    VBMFeatureExtractor(),\n",
    "    StandardScaler(),\n",
    "    RandomForestClassifier(random_state=1))\n",
    "\n",
    "\n",
    "# Modify the number of splits as needed\n",
    "cv = StratifiedGroupKFold(n_splits=2, shuffle=True, random_state=1)\n",
    "\n",
    "cv_results = cross_validate(estimator, X_train, y_train, groups=groups,\n",
    "                            scoring=['balanced_accuracy', 'roc_auc'], cv=cv,\n",
    "                            verbose=1, return_train_score=True, n_jobs=5)\n",
    "\n",
    "print(\"# 5CV\")\n",
    "print('bACC=%.2f' % cv_results['test_balanced_accuracy'].mean(),\n",
    "      'ROC-AUC=%.2f' % cv_results['test_roc_auc'].mean())\n",
    "\n",
    "# Refit on all train\n",
    "estimator.fit(X_train, y_train)\n",
    "# Apply on test\n",
    "y_pred_train = estimator.predict(X_train)\n",
    "y_pred_test = estimator.predict(X_test)\n",
    "score_pred_test = estimator.predict_proba(X_test)[:, 1]\n",
    "\n",
    "bacc_test = metrics.balanced_accuracy_score(y_test, y_pred_test)\n",
    "auc_test = metrics.roc_auc_score(y_test, score_pred_test)\n",
    "print(\"# Test\")\n",
    "print('bACC=%.2f' % bacc_test,\n",
    "      'ROC-AUC=%.2f' % auc_test)\n"
   ]
  },
  {
   "cell_type": "code",
   "execution_count": 11,
   "metadata": {},
   "outputs": [
    {
     "name": "stdout",
     "output_type": "stream",
     "text": [
      "Fitting 2 folds for each of 100 candidates, totalling 200 fits\n",
      "Best parameters: {'randomforestclassifier__max_depth': 3, 'randomforestclassifier__max_features': 'sqrt', 'randomforestclassifier__min_samples_leaf': 5, 'randomforestclassifier__min_samples_split': 4, 'randomforestclassifier__n_estimators': 243}\n",
      "# 5CV\n",
      "bACC=0.62 ROC-AUC=0.76\n",
      "# Test\n",
      "bACC=0.60 ROC-AUC=0.69\n"
     ]
    }
   ],
   "source": [
    "# Hyperparameter Tuning | Random forest | common cross validation | VBM features only\n",
    "\n",
    "from sklearn.model_selection import KFold, RandomizedSearchCV\n",
    "from sklearn.pipeline import make_pipeline\n",
    "from sklearn.ensemble import RandomForestClassifier\n",
    "from scipy.stats import randint\n",
    "\n",
    "\n",
    "cv = StratifiedGroupKFold(n_splits=2, shuffle=True, random_state=1)\n",
    "\n",
    "estimator = make_pipeline(\n",
    "    VBMFeatureExtractor(),\n",
    "    StandardScaler(),\n",
    "    RandomForestClassifier(random_state=1))\n",
    "\n",
    "# Setup the hyperparameter distributions to sample from for RandomForestClassifier\n",
    "param_distributions = {\n",
    "    'randomforestclassifier__n_estimators': randint(100, 300), \n",
    "    'randomforestclassifier__max_depth': randint(3, 10),\n",
    "    'randomforestclassifier__min_samples_split': randint(2, 6),\n",
    "    'randomforestclassifier__min_samples_leaf': randint(1, 6),\n",
    "    'randomforestclassifier__max_features': ['sqrt', 'log2']\n",
    "}\n",
    "\n",
    "# Setup RandomizedSearchCV\n",
    "random_search = RandomizedSearchCV(estimator,\n",
    "                                   param_distributions=param_distributions,\n",
    "                                   n_iter=100, \n",
    "                                   scoring=['roc_auc', 'balanced_accuracy'],\n",
    "                                   refit='balanced_accuracy',\n",
    "                                   cv=cv,\n",
    "                                   verbose=1,\n",
    "                                   n_jobs=5,\n",
    "                                   random_state=1,\n",
    "                                   return_train_score=True)\n",
    "\n",
    "\n",
    "# Fit RandomizedSearchCV\n",
    "random_search.fit(X_train, y_train, groups=groups)\n",
    "\n",
    "print(\"Best parameters:\", random_search.best_params_)\n",
    "\n",
    "# Reporting cross-validation results\n",
    "print(\"# 5CV\")\n",
    "print('bACC=%.2f' % np.mean(random_search.cv_results_['mean_test_balanced_accuracy']),\n",
    "      'ROC-AUC=%.2f' % np.mean(random_search.cv_results_['mean_test_roc_auc']))\n",
    "\n",
    "# Using the best estimator found to predict on test data\n",
    "y_pred_test = random_search.predict(X_test)\n",
    "score_pred_test = random_search.predict_proba(X_test)[:, 1]\n",
    "\n",
    "# Calculate test scores\n",
    "bacc_test = metrics.balanced_accuracy_score(y_test, y_pred_test)\n",
    "auc_test = metrics.roc_auc_score(y_test, score_pred_test)\n",
    "\n",
    "# Print test results\n",
    "print(\"# Test\")\n",
    "print('bACC=%.2f' % bacc_test, 'ROC-AUC=%.2f' % auc_test)\n"
   ]
  },
  {
   "cell_type": "code",
   "execution_count": 32,
   "metadata": {},
   "outputs": [
    {
     "name": "stdout",
     "output_type": "stream",
     "text": [
      "Training and testing time: 26.7055 seconds\n"
     ]
    }
   ],
   "source": [
    "import time\n",
    "start_train_test = time.time()\n",
    "\n",
    "estimator = make_pipeline(\n",
    "    VBMFeatureExtractor(),\n",
    "    StandardScaler(),\n",
    "    RandomForestClassifier(random_state=1, max_depth=3, max_features='sqrt', min_samples_leaf=5, min_samples_split = 4, n_estimators = 243))\n",
    "\n",
    "    \n",
    "# Refit on all train\n",
    "estimator.fit(X_train, y_train)\n",
    "# Apply on test\n",
    "y_pred_train = estimator.predict(X_train)\n",
    "y_pred_test = estimator.predict(X_test)\n",
    "score_pred_test = estimator.predict_proba(X_test)[:, 1]\n",
    "\n",
    "bacc_test = metrics.balanced_accuracy_score(y_test, y_pred_test)\n",
    "auc_test = metrics.roc_auc_score(y_test, score_pred_test)\n",
    "\n",
    "end_train_test = time.time()\n",
    "\n",
    "# Calculate and print training and testing time rounded to 4 digits\n",
    "train_test_time = end_train_test - start_train_test\n",
    "print(\"Training and testing time:\", \"{:.4f} seconds\".format(train_test_time))"
   ]
  },
  {
   "cell_type": "markdown",
   "metadata": {},
   "source": [
    "SVC"
   ]
  },
  {
   "cell_type": "code",
   "execution_count": 9,
   "metadata": {},
   "outputs": [
    {
     "name": "stderr",
     "output_type": "stream",
     "text": [
      "[Parallel(n_jobs=5)]: Using backend LokyBackend with 5 concurrent workers.\n",
      "[Parallel(n_jobs=5)]: Done   2 out of   2 | elapsed:   11.9s remaining:    0.0s\n",
      "[Parallel(n_jobs=5)]: Done   2 out of   2 | elapsed:   11.9s finished\n"
     ]
    },
    {
     "name": "stdout",
     "output_type": "stream",
     "text": [
      "# 5CV\n",
      "bACC=0.70 ROC-AUC=0.80\n",
      "# Test\n",
      "bACC=0.75 ROC-AUC=0.84\n"
     ]
    }
   ],
   "source": [
    "# SVC | common cross validation | RIO features only\n",
    "\n",
    "from sklearn.model_selection import KFold, cross_validate\n",
    "from sklearn.pipeline import make_pipeline\n",
    "from sklearn.svm import SVC\n",
    "from sklearn.metrics import balanced_accuracy_score, roc_auc_score\n",
    "\n",
    "\n",
    "cv = KFold(n_splits=2, shuffle=True, random_state=1)\n",
    "\n",
    "estimator = make_pipeline(\n",
    "    ROIsFeatureExtractor(),\n",
    "    StandardScaler(),\n",
    "    SVC(probability=True, random_state=1)) \n",
    "    \n",
    "cv_results = cross_validate(estimator, X_train, y_train, scoring=['balanced_accuracy', 'roc_auc'], cv=cv,\n",
    "                            verbose=1, return_train_score=True, n_jobs=5)\n",
    "\n",
    "print(\"# 5CV\")\n",
    "print('bACC=%.2f' % cv_results['test_balanced_accuracy'].mean(),\n",
    "      'ROC-AUC=%.2f' % cv_results['test_roc_auc'].mean())\n",
    "\n",
    "# Refit on all train\n",
    "estimator.fit(X_train, y_train)\n",
    "# Apply on test\n",
    "y_pred_train = estimator.predict(X_train)\n",
    "y_pred_test = estimator.predict(X_test)\n",
    "score_pred_test = estimator.predict_proba(X_test)[:, 1]\n",
    "\n",
    "bacc_test = balanced_accuracy_score(y_test, y_pred_test)\n",
    "auc_test = roc_auc_score(y_test, score_pred_test)\n",
    "print(\"# Test\")\n",
    "print('bACC=%.2f' % bacc_test,\n",
    "      'ROC-AUC=%.2f' % auc_test)\n"
   ]
  },
  {
   "cell_type": "code",
   "execution_count": 10,
   "metadata": {},
   "outputs": [
    {
     "name": "stderr",
     "output_type": "stream",
     "text": [
      "[Parallel(n_jobs=5)]: Using backend LokyBackend with 5 concurrent workers.\n",
      "[Parallel(n_jobs=5)]: Done   2 out of   2 | elapsed:    9.8s remaining:    0.0s\n",
      "[Parallel(n_jobs=5)]: Done   2 out of   2 | elapsed:    9.8s finished\n"
     ]
    },
    {
     "name": "stdout",
     "output_type": "stream",
     "text": [
      "# 5CV\n",
      "bACC=0.72 ROC-AUC=0.79\n",
      "# Test\n",
      "bACC=0.75 ROC-AUC=0.84\n"
     ]
    }
   ],
   "source": [
    "# SVC | GroupStratifiedKFold cross validation | ROI features only\n",
    "from sklearn.svm import SVC\n",
    "from sklearn.metrics import balanced_accuracy_score, roc_auc_score\n",
    "from sklearn.model_selection import cross_validate, StratifiedGroupKFold\n",
    "from sklearn.pipeline import make_pipeline\n",
    "from sklearn.preprocessing import StandardScaler\n",
    "\n",
    "groups = participants_train['sex'].values\n",
    "\n",
    "\n",
    "estimator = make_pipeline(\n",
    "    ROIsFeatureExtractor(),\n",
    "    StandardScaler(),\n",
    "    SVC(probability=True, random_state=1))  # Set probability=True for ROC AUC scoring\n",
    "\n",
    "\n",
    "cv = StratifiedGroupKFold(n_splits=2, shuffle=True, random_state=1)\n",
    "\n",
    "cv_results = cross_validate(estimator, X_train, y_train, groups=groups,\n",
    "                            scoring=['balanced_accuracy', 'roc_auc'], cv=cv,\n",
    "                            verbose=1, return_train_score=True, n_jobs=5)\n",
    "\n",
    "print(\"# 5CV\")\n",
    "print('bACC=%.2f' % cv_results['test_balanced_accuracy'].mean(),\n",
    "      'ROC-AUC=%.2f' % cv_results['test_roc_auc'].mean())\n",
    "\n",
    "# Refit on all train\n",
    "estimator.fit(X_train, y_train)\n",
    "# Apply on test\n",
    "y_pred_train = estimator.predict(X_train)\n",
    "y_pred_test = estimator.predict(X_test)\n",
    "score_pred_test = estimator.predict_proba(X_test)[:, 1]\n",
    "\n",
    "bacc_test = metrics.balanced_accuracy_score(y_test, y_pred_test)\n",
    "auc_test = metrics.roc_auc_score(y_test, score_pred_test)\n",
    "print(\"# Test\")\n",
    "print('bACC=%.2f' % bacc_test,\n",
    "      'ROC-AUC=%.2f' % auc_test)\n"
   ]
  },
  {
   "cell_type": "code",
   "execution_count": 21,
   "metadata": {},
   "outputs": [
    {
     "name": "stdout",
     "output_type": "stream",
     "text": [
      "Fitting 2 folds for each of 100 candidates, totalling 200 fits\n",
      "Best parameters: {'svc__C': 1.8823342112877368, 'svc__degree': 3, 'svc__gamma': 'auto'}\n",
      "# 5CV\n",
      "bACC=0.53 ROC-AUC=0.57\n",
      "# Test\n",
      "bACC=0.74 ROC-AUC=0.85\n"
     ]
    }
   ],
   "source": [
    "# Hyperparameter Tuning | SVC | common cross validation | RIO features only\n",
    "\n",
    "from sklearn.model_selection import KFold, RandomizedSearchCV\n",
    "from sklearn.pipeline import make_pipeline\n",
    "from sklearn.svm import SVC\n",
    "from scipy.stats import expon, randint, uniform\n",
    "\n",
    "\n",
    "cv = KFold(n_splits=2, shuffle=True, random_state=1)\n",
    "\n",
    "estimator = make_pipeline(\n",
    "    ROIsFeatureExtractor(),\n",
    "    StandardScaler(),\n",
    "    SVC(probability=True, random_state=1)) \n",
    "\n",
    "\n",
    "param_distributions = {\n",
    "    'svc__C': expon(scale=100),\n",
    "    'svc__gamma': ['scale', 'auto'] + list(uniform(loc=0, scale=1).rvs(size=10)),\n",
    "    'svc__degree': randint(2, 5)\n",
    "}\n",
    "\n",
    "# Setup RandomizedSearchCV\n",
    "random_search = RandomizedSearchCV(estimator,\n",
    "                                   param_distributions=param_distributions,\n",
    "                                   n_iter=100,\n",
    "                                   scoring=['roc_auc', 'balanced_accuracy'],\n",
    "                                   refit='balanced_accuracy', \n",
    "                                   cv=cv,\n",
    "                                   verbose=1,\n",
    "                                   n_jobs=5,\n",
    "                                   random_state=1,\n",
    "                                   return_train_score=True)\n",
    "\n",
    "\n",
    "# Fit RandomizedSearchCV\n",
    "random_search.fit(X_train, y_train)\n",
    "\n",
    "print(\"Best parameters:\", random_search.best_params_)\n",
    "\n",
    "# Reporting cross-validation results\n",
    "print(\"# 5CV\")\n",
    "print('bACC=%.2f' % np.mean(random_search.cv_results_['mean_test_balanced_accuracy']),\n",
    "      'ROC-AUC=%.2f' % np.mean(random_search.cv_results_['mean_test_roc_auc']))\n",
    "\n",
    "# Using the best estimator found to predict on test data\n",
    "y_pred_test = random_search.predict(X_test)\n",
    "score_pred_test = random_search.predict_proba(X_test)[:, 1]\n",
    "\n",
    "# Calculate test scores\n",
    "bacc_test = metrics.balanced_accuracy_score(y_test, y_pred_test)\n",
    "auc_test = metrics.roc_auc_score(y_test, score_pred_test)\n",
    "\n",
    "# Print test results\n",
    "print(\"# Test\")\n",
    "print('bACC=%.2f' % bacc_test, 'ROC-AUC=%.2f' % auc_test)\n"
   ]
  },
  {
   "cell_type": "code",
   "execution_count": 33,
   "metadata": {},
   "outputs": [
    {
     "name": "stdout",
     "output_type": "stream",
     "text": [
      "Training and testing time: 0.1829 seconds\n"
     ]
    }
   ],
   "source": [
    "import time\n",
    "start_train_test = time.time()\n",
    "\n",
    "estimator = make_pipeline(\n",
    "    ROIsFeatureExtractor(),\n",
    "    StandardScaler(),\n",
    "    SVC(C = 1.8823342112877368, degree = 3, gamma= 'auto', probability=True, random_state=1))\n",
    "\n",
    "    \n",
    "# Refit on all train\n",
    "estimator.fit(X_train, y_train)\n",
    "# Apply on test\n",
    "y_pred_train = estimator.predict(X_train)\n",
    "y_pred_test = estimator.predict(X_test)\n",
    "score_pred_test = estimator.predict_proba(X_test)[:, 1]\n",
    "\n",
    "bacc_test = metrics.balanced_accuracy_score(y_test, y_pred_test)\n",
    "auc_test = metrics.roc_auc_score(y_test, score_pred_test)\n",
    "\n",
    "end_train_test = time.time()\n",
    "\n",
    "# Calculate and print training and testing time rounded to 4 digits\n",
    "train_test_time = end_train_test - start_train_test\n",
    "print(\"Training and testing time:\", \"{:.4f} seconds\".format(train_test_time))"
   ]
  },
  {
   "cell_type": "code",
   "execution_count": 12,
   "metadata": {},
   "outputs": [
    {
     "name": "stdout",
     "output_type": "stream",
     "text": [
      "Fitting 2 folds for each of 100 candidates, totalling 200 fits\n",
      "Best parameters: {'svc__C': 1.8823342112877368, 'svc__degree': 3, 'svc__gamma': 'auto'}\n",
      "# 5CV\n",
      "bACC=0.55 ROC-AUC=0.58\n",
      "# Test\n",
      "bACC=0.74 ROC-AUC=0.85\n"
     ]
    }
   ],
   "source": [
    "# SVC | StratifiedGroupKFold cross validation | RIO features only\n",
    "\n",
    "from scipy.stats import expon, randint, uniform\n",
    "from sklearn.model_selection import KFold, cross_validate\n",
    "from sklearn.pipeline import make_pipeline\n",
    "from sklearn.svm import SVC\n",
    "from sklearn.metrics import balanced_accuracy_score, roc_auc_score\n",
    "from sklearn.preprocessing import LabelEncoder, StandardScaler\n",
    "from sklearn.model_selection import KFold, RandomizedSearchCV\n",
    "\n",
    "\n",
    "cv = StratifiedGroupKFold(n_splits=2, shuffle=True, random_state=1)\n",
    "\n",
    "\n",
    "estimator = make_pipeline(\n",
    "    ROIsFeatureExtractor(),\n",
    "    StandardScaler(),\n",
    "    SVC(probability=True, random_state=1))  # Set probability=True for ROC AUC scoring\n",
    "\n",
    "# Setup the hyperparameter distributions to sample from for RandomForestClassifier\n",
    "param_distributions = {\n",
    "    'svc__C': expon(scale=100),\n",
    "    'svc__gamma': ['scale', 'auto'] + list(uniform(loc=0, scale=1).rvs(size=10)), \n",
    "    'svc__degree': randint(2, 5)\n",
    "}\n",
    "\n",
    "# Setup RandomizedSearchCV\n",
    "random_search = RandomizedSearchCV(estimator,\n",
    "                                   param_distributions=param_distributions,\n",
    "                                   n_iter=100,\n",
    "                                   scoring=['roc_auc', 'balanced_accuracy'],\n",
    "                                   refit='balanced_accuracy',\n",
    "                                   cv=cv,\n",
    "                                   verbose=1,\n",
    "                                   n_jobs=-1,\n",
    "                                   random_state=1,\n",
    "                                   return_train_score=True)\n",
    "\n",
    "\n",
    "# Fit RandomizedSearchCV\n",
    "random_search.fit(X_train, y_train, groups=groups)\n",
    "\n",
    "print(\"Best parameters:\", random_search.best_params_)\n",
    "\n",
    "# Reporting cross-validation results\n",
    "print(\"# 5CV\")\n",
    "print('bACC=%.2f' % np.mean(random_search.cv_results_['mean_test_balanced_accuracy']),\n",
    "      'ROC-AUC=%.2f' % np.mean(random_search.cv_results_['mean_test_roc_auc']))\n",
    "\n",
    "# Using the best estimator found to predict on test data\n",
    "y_pred_test = random_search.predict(X_test)\n",
    "score_pred_test = random_search.predict_proba(X_test)[:, 1]\n",
    "\n",
    "# Calculate test scores\n",
    "bacc_test = balanced_accuracy_score(y_test, y_pred_test)\n",
    "auc_test = roc_auc_score(y_test, score_pred_test)\n",
    "\n",
    "# Print test results\n",
    "print(\"# Test\")\n",
    "print('bACC=%.2f' % bacc_test, 'ROC-AUC=%.2f' % auc_test)\n"
   ]
  },
  {
   "cell_type": "code",
   "execution_count": 33,
   "metadata": {},
   "outputs": [
    {
     "name": "stdout",
     "output_type": "stream",
     "text": [
      "Training and testing time: 0.13194060325622559 seconds\n"
     ]
    }
   ],
   "source": [
    "import time\n",
    "start_train_test = time.time()\n",
    "\n",
    "estimator = make_pipeline(\n",
    "    ROIsFeatureExtractor(),\n",
    "    StandardScaler(),\n",
    "    SVC(C = 1.8823342112877368, degree = 3, gamma= 'auto', probability=True, random_state=1))\n",
    "\n",
    "    \n",
    "# Refit on all train\n",
    "estimator.fit(X_train, y_train)\n",
    "# Apply on test\n",
    "y_pred_train = estimator.predict(X_train)\n",
    "y_pred_test = estimator.predict(X_test)\n",
    "score_pred_test = estimator.predict_proba(X_test)[:, 1]\n",
    "\n",
    "bacc_test = metrics.balanced_accuracy_score(y_test, y_pred_test)\n",
    "auc_test = metrics.roc_auc_score(y_test, score_pred_test)\n",
    "\n",
    "end_train_test = time.time()\n",
    "print(\"Training and testing time:\", end_train_test - start_train_test, \"seconds\")"
   ]
  },
  {
   "cell_type": "code",
   "execution_count": 10,
   "metadata": {},
   "outputs": [
    {
     "name": "stderr",
     "output_type": "stream",
     "text": [
      "[Parallel(n_jobs=5)]: Using backend LokyBackend with 5 concurrent workers.\n",
      "[Parallel(n_jobs=5)]: Done   2 out of   2 | elapsed: 11.2min remaining:    0.0s\n",
      "[Parallel(n_jobs=5)]: Done   2 out of   2 | elapsed: 11.2min finished\n"
     ]
    },
    {
     "name": "stdout",
     "output_type": "stream",
     "text": [
      "# 5CV\n",
      "bACC=0.64 ROC-AUC=0.74\n",
      "# Test\n",
      "bACC=0.66 ROC-AUC=0.72\n"
     ]
    }
   ],
   "source": [
    "# SVC | common cross validation | VBM features only\n",
    "\n",
    "from sklearn.model_selection import KFold, cross_validate\n",
    "from sklearn.pipeline import make_pipeline\n",
    "from sklearn.svm import SVC\n",
    "from sklearn.metrics import balanced_accuracy_score, roc_auc_score\n",
    "\n",
    "\n",
    "cv = KFold(n_splits=2, shuffle=True, random_state=1)\n",
    "\n",
    "estimator = make_pipeline(\n",
    "    VBMFeatureExtractor(),\n",
    "    StandardScaler(),\n",
    "    SVC(probability=True, random_state=1))  # Set probability=True for ROC AUC scoring\n",
    "    \n",
    "cv_results = cross_validate(estimator, X_train, y_train, scoring=['balanced_accuracy', 'roc_auc'], cv=cv,\n",
    "                            verbose=1, return_train_score=True, n_jobs=5)\n",
    "\n",
    "print(\"# 5CV\")\n",
    "print('bACC=%.2f' % cv_results['test_balanced_accuracy'].mean(),\n",
    "      'ROC-AUC=%.2f' % cv_results['test_roc_auc'].mean())\n",
    "\n",
    "# Refit on all train\n",
    "estimator.fit(X_train, y_train)\n",
    "# Apply on test\n",
    "y_pred_train = estimator.predict(X_train)\n",
    "y_pred_test = estimator.predict(X_test)\n",
    "score_pred_test = estimator.predict_proba(X_test)[:, 1]\n",
    "\n",
    "bacc_test = balanced_accuracy_score(y_test, y_pred_test)\n",
    "auc_test = roc_auc_score(y_test, score_pred_test)\n",
    "print(\"# Test\")\n",
    "print('bACC=%.2f' % bacc_test,  # Fixed the format specifier here\n",
    "      'ROC-AUC=%.2f' % auc_test)\n"
   ]
  },
  {
   "cell_type": "code",
   "execution_count": 11,
   "metadata": {},
   "outputs": [
    {
     "name": "stderr",
     "output_type": "stream",
     "text": [
      "[Parallel(n_jobs=5)]: Using backend LokyBackend with 5 concurrent workers.\n",
      "[Parallel(n_jobs=5)]: Done   2 out of   2 | elapsed: 11.4min finished\n",
      "[Parallel(n_jobs=5)]: Done   2 out of   2 | elapsed: 11.4min remaining:    0.0s\n"
     ]
    },
    {
     "name": "stdout",
     "output_type": "stream",
     "text": [
      "# 5CV\n",
      "bACC=0.62 ROC-AUC=0.76\n",
      "# Test\n",
      "bACC=0.66 ROC-AUC=0.72\n"
     ]
    }
   ],
   "source": [
    "# SVC | GroupStratifiedKFold cross validation | VBM features only\n",
    "from sklearn.svm import SVC\n",
    "from sklearn.metrics import balanced_accuracy_score, roc_auc_score\n",
    "from sklearn.model_selection import cross_validate, StratifiedGroupKFold\n",
    "from sklearn.pipeline import make_pipeline\n",
    "from sklearn.preprocessing import StandardScaler\n",
    "\n",
    "groups = participants_train['sex'].values\n",
    "\n",
    "\n",
    "estimator = make_pipeline(\n",
    "    VBMFeatureExtractor(),\n",
    "    StandardScaler(),\n",
    "    SVC(probability=True, random_state=1))  # Set probability=True for ROC AUC scoring\n",
    "\n",
    "\n",
    "cv = StratifiedGroupKFold(n_splits=2, shuffle=True, random_state=1)\n",
    "\n",
    "cv_results = cross_validate(estimator, X_train, y_train, groups=groups,\n",
    "                            scoring=['balanced_accuracy', 'roc_auc'], cv=cv,\n",
    "                            verbose=1, return_train_score=True, n_jobs=5)\n",
    "\n",
    "print(\"# 5CV\")\n",
    "print('bACC=%.2f' % cv_results['test_balanced_accuracy'].mean(),\n",
    "      'ROC-AUC=%.2f' % cv_results['test_roc_auc'].mean())\n",
    "\n",
    "# Refit on all train\n",
    "estimator.fit(X_train, y_train)\n",
    "# Apply on test\n",
    "y_pred_train = estimator.predict(X_train)\n",
    "y_pred_test = estimator.predict(X_test)\n",
    "score_pred_test = estimator.predict_proba(X_test)[:, 1]\n",
    "\n",
    "bacc_test = metrics.balanced_accuracy_score(y_test, y_pred_test)\n",
    "auc_test = metrics.roc_auc_score(y_test, score_pred_test)\n",
    "print(\"# Test\")\n",
    "print('bACC=%.2f' % bacc_test,\n",
    "      'ROC-AUC=%.2f' % auc_test)\n"
   ]
  },
  {
   "cell_type": "code",
   "execution_count": 34,
   "metadata": {},
   "outputs": [
    {
     "name": "stdout",
     "output_type": "stream",
     "text": [
      "Training and testing time: 749.4139201641083 seconds\n"
     ]
    }
   ],
   "source": [
    "import time\n",
    "start_train_test = time.time()\n",
    "\n",
    "estimator = make_pipeline(\n",
    "    VBMFeatureExtractor(),\n",
    "    StandardScaler(),\n",
    "    SVC(probability=True, random_state=1))\n",
    "\n",
    "    \n",
    "# Refit on all train\n",
    "estimator.fit(X_train, y_train)\n",
    "# Apply on test\n",
    "y_pred_train = estimator.predict(X_train)\n",
    "y_pred_test = estimator.predict(X_test)\n",
    "score_pred_test = estimator.predict_proba(X_test)[:, 1]\n",
    "\n",
    "bacc_test = metrics.balanced_accuracy_score(y_test, y_pred_test)\n",
    "auc_test = metrics.roc_auc_score(y_test, score_pred_test)\n",
    "\n",
    "end_train_test = time.time()\n",
    "print(\"Training and testing time:\", end_train_test - start_train_test, \"seconds\")"
   ]
  },
  {
   "cell_type": "code",
   "execution_count": null,
   "metadata": {},
   "outputs": [],
   "source": [
    "# Hyperparameter Tuning | SVM | common cross validation | VBM features only\n",
    "\n",
    "from sklearn.model_selection import KFold, RandomizedSearchCV\n",
    "from sklearn.pipeline import make_pipeline\n",
    "from sklearn.svm import SVC\n",
    "from scipy.stats import expon, randint, uniform\n",
    "\n",
    "\n",
    "cv = KFold(n_splits=2, shuffle=True, random_state=1)\n",
    "\n",
    "estimator = make_pipeline(\n",
    "    VBMFeatureExtractor(),\n",
    "    StandardScaler(),\n",
    "    SVC(probability=True, random_state=1))  # Set probability=True for ROC AUC scoring\n",
    "\n",
    "# Setup the hyperparameter distributions to sample from for RandomForestClassifier\n",
    "param_distributions = {\n",
    "    'svc__C': expon(scale=100),\n",
    "    'svc__gamma': ['scale', 'auto'] + list(uniform(loc=0, scale=1).rvs(size=10)),\n",
    "    'svc__degree': randint(2, 5)\n",
    "}\n",
    "\n",
    "# Setup RandomizedSearchCV\n",
    "random_search = RandomizedSearchCV(estimator,\n",
    "                                   param_distributions=param_distributions,\n",
    "                                   n_iter=100,\n",
    "                                   scoring=['roc_auc', 'balanced_accuracy'],\n",
    "                                   refit='balanced_accuracy',\n",
    "                                   cv=cv,\n",
    "                                   verbose=1,\n",
    "                                   n_jobs=5,\n",
    "                                   random_state=1,\n",
    "                                   return_train_score=True)\n",
    "\n",
    "\n",
    "\n",
    "random_search.fit(X_train, y_train)\n",
    "\n",
    "print(\"Best parameters:\", random_search.best_params_)\n",
    "\n",
    "# Reporting cross-validation results\n",
    "print(\"# 5CV\")\n",
    "print('bACC=%.2f' % np.mean(random_search.cv_results_['mean_test_balanced_accuracy']),\n",
    "      'ROC-AUC=%.2f' % np.mean(random_search.cv_results_['mean_test_roc_auc']))\n",
    "\n",
    "# Using the best estimator found to predict on test data\n",
    "y_pred_test = random_search.predict(X_test)\n",
    "score_pred_test = random_search.predict_proba(X_test)[:, 1]\n",
    "\n",
    "# Calculate test scores\n",
    "bacc_test = metrics.balanced_accuracy_score(y_test, y_pred_test)\n",
    "auc_test = metrics.roc_auc_score(y_test, score_pred_test)\n",
    "\n",
    "# Print test results\n",
    "print(\"# Test\")\n",
    "print('bACC=%.2f' % bacc_test, 'ROC-AUC=%.2f' % auc_test)\n"
   ]
  },
  {
   "cell_type": "code",
   "execution_count": null,
   "metadata": {},
   "outputs": [
    {
     "name": "stdout",
     "output_type": "stream",
     "text": [
      "Fitting 5 folds for each of 100 candidates, totalling 500 fits\n"
     ]
    }
   ],
   "source": [
    "# Hyperparameter Tuning | SVC | StratifiedGroupKFold cross validation | VBM features only\n",
    "\n",
    "from scipy.stats import expon, randint, uniform\n",
    "from sklearn.model_selection import KFold, cross_validate\n",
    "from sklearn.pipeline import make_pipeline\n",
    "from sklearn.svm import SVC\n",
    "from sklearn.metrics import balanced_accuracy_score, roc_auc_score\n",
    "from sklearn.preprocessing import LabelEncoder, StandardScaler\n",
    "from sklearn.model_selection import KFold, RandomizedSearchCV\n",
    "\n",
    "\n",
    "cv = StratifiedGroupKFold(n_splits=2, shuffle=True, random_state=1)\n",
    "\n",
    "\n",
    "estimator = make_pipeline(\n",
    "    VBMFeatureExtractor(),\n",
    "    StandardScaler(),\n",
    "    SVC(probability=True, random_state=1))  # Set probability=True for ROC AUC scoring\n",
    "\n",
    "# Setup the hyperparameter distributions to sample from for RandomForestClassifier\n",
    "param_distributions = {\n",
    "    'svc__C': expon(scale=100),\n",
    "    'svc__gamma': ['scale', 'auto'] + list(uniform(loc=0, scale=1).rvs(size=10)),\n",
    "    'svc__degree': randint(2, 5)\n",
    "}\n",
    "\n",
    "# Setup RandomizedSearchCV\n",
    "random_search = RandomizedSearchCV(estimator,\n",
    "                                   param_distributions=param_distributions,\n",
    "                                   n_iter=100,\n",
    "                                   scoring=['roc_auc', 'balanced_accuracy'],\n",
    "                                   refit='balanced_accuracy',  \n",
    "                                   cv=cv,\n",
    "                                   verbose=1,\n",
    "                                   n_jobs=5, \n",
    "                                   random_state=1,\n",
    "                                   return_train_score=True)\n",
    "\n",
    "\n",
    "# Fit RandomizedSearchCV\n",
    "random_search.fit(X_train, y_train, groups=groups)\n",
    "\n",
    "print(\"Best parameters:\", random_search.best_params_)\n",
    "\n",
    "# Reporting cross-validation results\n",
    "print(\"# 5CV\")\n",
    "print('bACC=%.2f' % np.mean(random_search.cv_results_['mean_test_balanced_accuracy']),\n",
    "      'ROC-AUC=%.2f' % np.mean(random_search.cv_results_['mean_test_roc_auc']))\n",
    "\n",
    "# Using the best estimator found to predict on test data\n",
    "y_pred_test = random_search.predict(X_test)\n",
    "score_pred_test = random_search.predict_proba(X_test)[:, 1]\n",
    "\n",
    "# Calculate test scores\n",
    "bacc_test = balanced_accuracy_score(y_test, y_pred_test)\n",
    "auc_test = roc_auc_score(y_test, score_pred_test)\n",
    "\n",
    "# Print test results\n",
    "print(\"# Test\")\n",
    "print('bACC=%.2f' % bacc_test, 'ROC-AUC=%.2f' % auc_test)\n"
   ]
  },
  {
   "cell_type": "markdown",
   "metadata": {},
   "source": [
    "## Test submission locally\n",
    "\n",
    "The submissions need to be located in the submissions folder. For instance for `starting_kit`, it should be located in `submissions/submissions/starting_kit`.\n",
    "\n",
    "Copy everything required (the cell bellow) to build your estimator in a submission file: `submissions/submissions/starting_kit/estimator.py`. This file must contain a function `get_estimator()`:"
   ]
  },
  {
   "cell_type": "code",
   "execution_count": null,
   "metadata": {},
   "outputs": [],
   "source": [
    "import numpy as np\n",
    "\n",
    "from sklearn.base import BaseEstimator\n",
    "from sklearn.base import TransformerMixin\n",
    "from sklearn.neural_network import MLPClassifier\n",
    "from sklearn.pipeline import make_pipeline\n",
    "\n",
    "\n",
    "class ROIsFeatureExtractor(BaseEstimator, TransformerMixin):\n",
    "    \"\"\"Select only the 284 ROIs features:\"\"\"\n",
    "    def fit(self, X, y):\n",
    "        return self\n",
    "\n",
    "    def transform(self, X):\n",
    "        return X[:, :284]\n",
    "\n",
    "\n",
    "def get_estimator():\n",
    "    \"\"\"Build your estimator here.\"\"\"\n",
    "    estimator = make_pipeline(\n",
    "    ROIsFeatureExtractor(),\n",
    "    StandardScaler(),\n",
    "    LogisticRegression(penalty = 'l1', solver='liblinear', random_state=1, max_iter = 2000, C = 0.1))\n",
    "\n",
    "    return estimator"
   ]
  },
  {
   "cell_type": "markdown",
   "metadata": {},
   "source": [
    "Run locally:\n",
    "    \n",
    "```\n",
    "ramp-test --submission starting_kit\n",
    "```\n",
    "\n",
    "## Submission on RAMP:\n",
    "\n",
    "\n",
    "Follow the instructions: [Submitting to a ramp event](https://paris-saclay-cds.github.io/ramp-docs/ramp-workflow/stable/using_kits.html#submitting-to-a-ramp-event)\n",
    "\n",
    "The event is [Predict schizophrenia from brain grey matter (classification)](https://ramp.studio/problems/brain_anatomy_schizophrenia)"
   ]
  }
 ],
 "metadata": {
  "kernelspec": {
   "display_name": "Python 3 (ipykernel)",
   "language": "python",
   "name": "python3"
  },
  "language_info": {
   "codemirror_mode": {
    "name": "ipython",
    "version": 3
   },
   "file_extension": ".py",
   "mimetype": "text/x-python",
   "name": "python",
   "nbconvert_exporter": "python",
   "pygments_lexer": "ipython3",
   "version": "3.12.0"
  },
  "vscode": {
   "interpreter": {
    "hash": "b69367434d80bac89d1a565c5caac4c5610f915c73dfb494ea62edf5b2129e8d"
   }
  }
 },
 "nbformat": 4,
 "nbformat_minor": 4
}
